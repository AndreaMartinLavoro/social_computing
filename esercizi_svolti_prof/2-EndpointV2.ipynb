{
 "cells": [
  {
   "cell_type": "markdown",
   "metadata": {},
   "source": [
    "# ENDPOINT V2"
   ]
  },
  {
   "cell_type": "markdown",
   "metadata": {},
   "source": [
    "# Libreria Requests"
   ]
  },
  {
   "cell_type": "code",
   "execution_count": 43,
   "metadata": {},
   "outputs": [
    {
     "name": "stdout",
     "output_type": "stream",
     "text": [
      "{'actor': {'avatar_url': 'https://avatars.githubusercontent.com/u/22199881?',\n",
      "           'display_login': 'Amerousful',\n",
      "           'gravatar_id': '',\n",
      "           'id': 22199881,\n",
      "           'login': 'Amerousful',\n",
      "           'url': 'https://api.github.com/users/Amerousful'},\n",
      " 'created_at': '2020-10-29T10:45:06Z',\n",
      " 'id': '14013657871',\n",
      " 'org': {'avatar_url': 'https://avatars.githubusercontent.com/u/6692621?',\n",
      "         'gravatar_id': '',\n",
      "         'id': 6692621,\n",
      "         'login': 'red6',\n",
      "         'url': 'https://api.github.com/orgs/red6'},\n",
      " 'payload': {'action': 'started'},\n",
      " 'public': True,\n",
      " 'repo': {'id': 74676206,\n",
      "          'name': 'red6/pdfcompare',\n",
      "          'url': 'https://api.github.com/repos/red6/pdfcompare'},\n",
      " 'type': 'WatchEvent'}\n"
     ]
    }
   ],
   "source": [
    "import requests\n",
    "\n",
    "response = requests.get(\"https://api.github.com/events\")\n",
    "# Print just the first event\n",
    "pp.pprint(response.json()[0])\n",
    "response = requests.post(\"http://httpbin.org/post\")\n",
    "response = requests.put(\"http://httpbin.org/put\")\n",
    "response = requests.delete(\"http://httpbin.org/delete\")"
   ]
  },
  {
   "cell_type": "code",
   "execution_count": 42,
   "metadata": {},
   "outputs": [
    {
     "name": "stdout",
     "output_type": "stream",
     "text": [
      "{'data': [{'created_at': '2012-07-17T19:19:12.000Z',\n",
      "           'description': 'Just a kid from Brooklyn.',\n",
      "           'id': '701615052',\n",
      "           'name': 'Captain America',\n",
      "           'username': 'CaptainAmerica'}]}\n"
     ]
    }
   ],
   "source": [
    "endpoint_url = \"https://api.twitter.com/2/users/by\"\n",
    "headers = {\n",
    "    'authorization': f\"Bearer {bearer_token}\"\n",
    "}\n",
    "params = {\n",
    "    'usernames': 'CaptainAmerica',\n",
    "    'user.fields': 'name,description,created_at'\n",
    "}\n",
    "response = requests.get(endpoint_url, headers=headers, params=params)\n",
    "pp.pprint(response.json())"
   ]
  }
 ],
 "metadata": {
  "kernelspec": {
   "display_name": "Python 3",
   "language": "python",
   "name": "python3"
  },
  "language_info": {
   "codemirror_mode": {
    "name": "ipython",
    "version": 3
   },
   "file_extension": ".py",
   "mimetype": "text/x-python",
   "name": "python",
   "nbconvert_exporter": "python",
   "pygments_lexer": "ipython3",
   "version": "3.7.9"
  }
 },
 "nbformat": 4,
 "nbformat_minor": 4
}
