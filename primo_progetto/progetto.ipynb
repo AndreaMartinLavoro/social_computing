{
 "cells": [
  {
   "cell_type": "code",
   "execution_count": 2,
   "outputs": [],
   "source": [
    "import tweepy as tw\n",
    "import os\n",
    "import json"
   ],
   "metadata": {
    "collapsed": false,
    "pycharm": {
     "name": "#%%\n"
    }
   }
  },
  {
   "cell_type": "code",
   "execution_count": 17,
   "outputs": [
    {
     "name": "stdout",
     "output_type": "stream",
     "text": [
      "Authentication completed successfully!\n"
     ]
    }
   ],
   "source": [
    "#Twitter API credentials)\n",
    "#/////--------------------DA CAMBIARE-----------------------/////\n",
    "api_key = \"FzUscQQNsdWhkxebVGFZyuHsh\"\n",
    "api_secret = \"Tr1OqulWQIYYI6aEpWVOb7U5NL9DoRtCAviXh4tYg4LXg9sBZe\"\n",
    "access_token = \"1040603971637923845-9uZqYh42gsCmwoDCB9nTcoSHrHwiV8\"\n",
    "access_secret = \"OsZL0PZC9WDw6Xwcl2ASpIisyfkKW3Bwu4BomNgWxAcj0\"\n",
    "bearer_token = \"AAAAAAAAAAAAAAAAAAAAAJQUJQEAAAAA%2B5CTzK8KotMS%2FuB61Dlul7ijBE4%3D5uWZb7w1FPD6nb4SpvmnZ4hxGjqGwzfMquWPHQQooS3jkgNg67\"\n",
    "\n",
    "auth = tw.OAuthHandler(api_key, api_secret)\n",
    "auth.set_access_token(access_token, access_secret)\n",
    "api = tw.API(auth, wait_on_rate_limit=True, wait_on_rate_limit_notify=True)\n",
    "\n",
    "if api.verify_credentials:\n",
    "    print ('Authentication completed successfully!')"
   ],
   "metadata": {
    "collapsed": false,
    "pycharm": {
     "name": "#%%\n"
    }
   }
  },
  {
   "cell_type": "code",
   "execution_count": 18,
   "outputs": [],
   "source": [
    "data_folder = \"data\"\n",
    "\n",
    "def serialize_json(folder, filename, data):\n",
    "    if not os.path.exists(folder):\n",
    "        os.makedirs(folder, exist_ok=True)\n",
    "    with open(f\"{folder}/{filename}\", 'w', encoding='utf-8') as f:\n",
    "        json.dump(data, f, ensure_ascii=False, indent=4)\n",
    "        f.close()\n",
    "    print(f\"Data serialized to path: {folder}/{filename}\")\n",
    "\n",
    "def read_json(path):\n",
    "    if os.path.exists(path):\n",
    "        with open(path, \"r\", encoding=\"utf8\") as file:\n",
    "            data = json.load(file)\n",
    "        print(f\"Data read from path: {path}\")\n",
    "        return data\n",
    "    else:\n",
    "        print(f\"No data found at path: {path}\")\n",
    "        return {}"
   ],
   "metadata": {
    "collapsed": false,
    "pycharm": {
     "name": "#%%\n"
    }
   }
  },
  {
   "cell_type": "markdown",
   "metadata": {
    "collapsed": true,
    "pycharm": {
     "name": "#%% md\n"
    }
   },
   "source": [
    "1. Scaricamento utenti followers ( api.followers ) e utenti following (api.friends ) dei seguenti\n",
    "    cinque account (i dati numerici potrebbero subire minime variazioni):\n",
    "\n",
    "    ○ @mizzaro <br>\n",
    "    ○ @damiano10 <br>\n",
    "    ○ @Miccighel_ <br>\n",
    "    ○ @eglu81 <br>\n",
    "    ○ @KevinRoitero\n"
   ]
  },
  {
   "cell_type": "code",
   "execution_count": 22,
   "outputs": [
    {
     "name": "stdout",
     "output_type": "stream",
     "text": [
      "[1, 1] [1, 1]\n"
     ]
    }
   ],
   "source": [
    "accounts = [\"mizzaro\" , \"damiano10\", \"Miccighel_\", \"elgu81\", \"KevinRoitero\"]\n",
    "followers = [157, 786, 332, 539, 103]\n",
    "followings = [331, 837, 212, 621, 256]\n",
    "print(followers, followings)"
   ],
   "metadata": {
    "collapsed": false,
    "pycharm": {
     "name": "#%%\n"
    }
   }
  },
  {
   "cell_type": "markdown",
   "source": [
    "accounts --> vettore contenenti gli screen_name dei quali si vogliono scaricare i dati (vettore)<br>\n",
    "what --> specifica il cosa voglio scaricare (stringa) <br>\n",
    "quantity --> quantità di followers/followings si vogliono scaricare (intero) <br>\n",
    "operation --> funzione dell'API da chiamere (funzione)"
   ],
   "metadata": {
    "collapsed": false,
    "pycharm": {
     "name": "#%% md\n"
    }
   }
  },
  {
   "cell_type": "code",
   "execution_count": null,
   "outputs": [],
   "source": [
    "def download(accounts, what, quantity, operation):\n",
    "    i = 0\n",
    "    for account in accounts:\n",
    "        data= []\n",
    "        print(f\"Downloading {what} di {account}\")\n",
    "\n",
    "        for item in tw.Cursor(\n",
    "                operation,\n",
    "                screen_name=account,\n",
    "                skip_status=True,\n",
    "                include_user_entities=False\n",
    "            ).items(quantity[i]):\n",
    "\n",
    "            retriveData(item, data)\n",
    "\n",
    "        serialize_json(data_folder, f\"{account} {what}.json\", data)\n",
    "        i += 1\n",
    "\n",
    "def retriveData(item, data):\n",
    "    json_data = item._json\n",
    "    found_follower = {}\n",
    "\n",
    "    found_follower[\"id\"] = json_data[\"id\"]\n",
    "    found_follower[\"name\"] = json_data[\"name\"]\n",
    "    found_follower[\"screen_name\"] = json_data[\"screen_name\"]\n",
    "    found_follower[\"location\"] = json_data[\"location\"]\n",
    "\n",
    "    data.append(found_follower)"
   ],
   "metadata": {
    "collapsed": false,
    "pycharm": {
     "name": "#%%\n"
    }
   }
  },
  {
   "cell_type": "markdown",
   "source": [
    "## Download follower"
   ],
   "metadata": {
    "collapsed": false,
    "pycharm": {
     "name": "#%% md\n"
    }
   }
  },
  {
   "cell_type": "code",
   "execution_count": 23,
   "outputs": [
    {
     "name": "stdout",
     "output_type": "stream",
     "text": [
      "Downloading follower di francemattee\n",
      "Data serialized to path: data/francemattee follower.json\n",
      "Downloading follower di Martiviola\n",
      "Data serialized to path: data/Martiviola follower.json\n"
     ]
    }
   ],
   "source": [
    "download(accounts, \"follower\", followers, api.followers)"
   ],
   "metadata": {
    "collapsed": false,
    "pycharm": {
     "name": "#%%\n"
    }
   }
  },
  {
   "cell_type": "markdown",
   "source": [
    "## Download following"
   ],
   "metadata": {
    "collapsed": false,
    "pycharm": {
     "name": "#%% md\n"
    }
   }
  },
  {
   "cell_type": "code",
   "execution_count": 24,
   "outputs": [
    {
     "name": "stdout",
     "output_type": "stream",
     "text": [
      "Downloading following di francemattee\n",
      "Data serialized to path: data/francemattee following.json\n",
      "Downloading following di Martiviola\n",
      "Data serialized to path: data/Martiviola following.json\n"
     ]
    }
   ],
   "source": [
    "download(accounts, \"following\", followings, api.friends)"
   ],
   "metadata": {
    "collapsed": false,
    "pycharm": {
     "name": "#%%\n"
    }
   }
  },
  {
   "cell_type": "markdown",
   "source": [
    "2. Scegliete 5 utenti followers a caso tra quelli di ciascuno dei cinque account e\n",
    "    scaricate ulteriori 10 utenti followers ( followers dei followers )\n"
   ],
   "metadata": {
    "collapsed": false,
    "pycharm": {
     "name": "#%% md\n"
    }
   }
  },
  {
   "cell_type": "code",
   "execution_count": null,
   "outputs": [],
   "source": [],
   "metadata": {
    "collapsed": false,
    "pycharm": {
     "name": "#%%\n"
    }
   }
  },
  {
   "cell_type": "markdown",
   "source": [
    "3. Scegliete 5 utenti following a caso tra quelli di ciascuno dei cinque account e\n",
    "    scaricate ulteriori 10 utenti following ( following dei following )"
   ],
   "metadata": {
    "collapsed": false,
    "pycharm": {
     "name": "#%% md\n"
    }
   }
  },
  {
   "cell_type": "code",
   "execution_count": null,
   "outputs": [],
   "source": [],
   "metadata": {
    "collapsed": false,
    "pycharm": {
     "name": "#%%\n"
    }
   }
  },
  {
   "cell_type": "markdown",
   "source": [
    "4. Scaricare i dettagli del profilo di tutti gli utenti recuperati\n"
   ],
   "metadata": {
    "collapsed": false,
    "pycharm": {
     "name": "#%% md\n"
    }
   }
  },
  {
   "cell_type": "code",
   "execution_count": null,
   "outputs": [],
   "source": [],
   "metadata": {
    "collapsed": false,
    "pycharm": {
     "name": "#%%\n"
    }
   }
  },
  {
   "cell_type": "markdown",
   "source": [
    "5. Costruite la rete sociale (grafo):\n",
    "\n",
    "    ○ Inserite l’ id di ciascun utente come identificatore del nodo <br>\n",
    "    ○ Ogni arco rappresenta una relazione follows tra due utenti <br>\n",
    "    ○ Inserite i dettagli del profilo di ciascun utente come attributi del nodo <br>\n",
    "    ○ Inserite i membri del vostro gruppo come attributi del grafo <br>\n",
    "    ○ Per ogni nodo, aggiungete un attributo con il numero di follower individuati\n"
   ],
   "metadata": {
    "collapsed": false,
    "pycharm": {
     "name": "#%% md\n"
    }
   }
  },
  {
   "cell_type": "code",
   "execution_count": null,
   "outputs": [],
   "source": [],
   "metadata": {
    "collapsed": false,
    "pycharm": {
     "name": "#%%\n"
    }
   }
  },
  {
   "cell_type": "markdown",
   "source": [
    "6. Producete una visualizzazione interattiva del grafo usando pyvis\n"
   ],
   "metadata": {
    "collapsed": false,
    "pycharm": {
     "name": "#%% md\n"
    }
   }
  },
  {
   "cell_type": "code",
   "execution_count": null,
   "outputs": [],
   "source": [],
   "metadata": {
    "collapsed": false,
    "pycharm": {
     "name": "#%%\n"
    }
   }
  },
  {
   "cell_type": "markdown",
   "source": [
    "7. Verificate se il grafo:\n",
    "\n",
    "    ○ è connesso ( is_connected ) <br>\n",
    "    ○ è bipartito ( is_bipartite )\n"
   ],
   "metadata": {
    "collapsed": false,
    "pycharm": {
     "name": "#%% md\n"
    }
   }
  },
  {
   "cell_type": "code",
   "execution_count": null,
   "outputs": [],
   "source": [],
   "metadata": {
    "collapsed": false,
    "pycharm": {
     "name": "#%%\n"
    }
   }
  },
  {
   "cell_type": "markdown",
   "source": [
    "8. Misurate le seguenti distanze sul grafo:\n",
    "\n",
    "    ○ Centro ( center ) <br>\n",
    "    ○ Diametro ( diameter ) <br>\n",
    "    ○ Raggio ( radius )\n"
   ],
   "metadata": {
    "collapsed": false,
    "pycharm": {
     "name": "#%% md\n"
    }
   }
  },
  {
   "cell_type": "code",
   "execution_count": null,
   "outputs": [],
   "source": [],
   "metadata": {
    "collapsed": false,
    "pycharm": {
     "name": "#%%\n"
    }
   }
  },
  {
   "cell_type": "markdown",
   "source": [
    "9. Calcolate le seguenti misure di centralità sul grafo:\n",
    "\n",
    "    ○ Betweenness centrality ( betweenness_centrality ) <br>\n",
    "    ○ Closeness centrality ( closeness_centrality ) <br>\n",
    "    ○ Degree centrality ( degree_centrality ) <br>\n",
    "    ○ In-degree centrality ( in_degree_centrality ) <br>\n",
    "    ○ Out-degree centrality ( out_degree_centrality ) <br>\n",
    "    ○ Page Rank ( pagerank ) <br>\n",
    "    ○ HITS ( hits )\n"
   ],
   "metadata": {
    "collapsed": false,
    "pycharm": {
     "name": "#%% md\n"
    }
   }
  },
  {
   "cell_type": "code",
   "execution_count": null,
   "outputs": [],
   "source": [],
   "metadata": {
    "collapsed": false,
    "pycharm": {
     "name": "#%%\n"
    }
   }
  },
  {
   "cell_type": "markdown",
   "source": [
    "10. Generate il sottografo indotto dal nodo damiano10 ( ego_graph ) e calcolate:\n",
    "\n",
    "    ○ Cricca massima ( max_clique ) <br>\n",
    "    ○ Dimensione della cricca massima ( large_clique_size )\n"
   ],
   "metadata": {
    "collapsed": false,
    "pycharm": {
     "name": "#%% md\n"
    }
   }
  },
  {
   "cell_type": "code",
   "execution_count": null,
   "outputs": [],
   "source": [],
   "metadata": {
    "collapsed": false,
    "pycharm": {
     "name": "#%%\n"
    }
   }
  },
  {
   "cell_type": "markdown",
   "source": [
    "11. Calcolate la copertura minima degli archi ( min_edge_cover ) del grafo\n"
   ],
   "metadata": {
    "collapsed": false,
    "pycharm": {
     "name": "#%% md\n"
    }
   }
  },
  {
   "cell_type": "code",
   "execution_count": null,
   "outputs": [],
   "source": [],
   "metadata": {
    "collapsed": false,
    "pycharm": {
     "name": "#%%\n"
    }
   }
  },
  {
   "cell_type": "markdown",
   "source": [
    "12. Calcolate i seguenti coefficienti per stimare la “small-world-ness” del grafo:\n",
    "\n",
    "    ○ Coefficiente omega ( omega ) <br>\n",
    "    ○ Coefficiente sigma ( sigma )"
   ],
   "metadata": {
    "collapsed": false,
    "pycharm": {
     "name": "#%% md\n"
    }
   }
  },
  {
   "cell_type": "code",
   "execution_count": null,
   "outputs": [],
   "source": [],
   "metadata": {
    "collapsed": false,
    "pycharm": {
     "name": "#%%\n"
    }
   }
  },
  {
   "cell_type": "markdown",
   "source": [
    "13. Calcolare la correlazione di Pearson Rho e di Kendall Tau fra le misure di centralità;\n",
    "    riportare il risultato in due tabelle"
   ],
   "metadata": {
    "collapsed": false,
    "pycharm": {
     "name": "#%% md\n"
    }
   }
  },
  {
   "cell_type": "code",
   "execution_count": null,
   "outputs": [],
   "source": [],
   "metadata": {
    "collapsed": false,
    "pycharm": {
     "name": "#%%"
    }
   }
  }
 ],
 "metadata": {
  "kernelspec": {
   "display_name": "Python 3",
   "language": "python",
   "name": "python3"
  },
  "language_info": {
   "codemirror_mode": {
    "name": "ipython",
    "version": 2
   },
   "file_extension": ".py",
   "mimetype": "text/x-python",
   "name": "python",
   "nbconvert_exporter": "python",
   "pygments_lexer": "ipython2",
   "version": "2.7.6"
  }
 },
 "nbformat": 4,
 "nbformat_minor": 0
}