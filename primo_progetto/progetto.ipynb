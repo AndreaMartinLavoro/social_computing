{
 "cells": [
  {
   "cell_type": "markdown",
   "source": [
    "# Primo progetto di Social Computing\n",
    "**Anno accademico 2020-21**\n",
    "\n",
    "**Allievi:**\n",
    "* *Rizzetto Sasha [142660]*\n",
    "* *Gasparollo Denis [143225]*\n",
    "* *Bensi Martino [142793]*\n",
    "* *Francescut Matteo [143352]*\n",
    "\n",
    "## Importazione librerie\n",
    "\n",
    "Le principali librerie impiegate sono: <br>\n",
    "    •Tweepy: semplifica l’accesso e l’utilizzo delle API di Twitter <br>\n",
    "    •NetworkX: permette la creazione, manipolazione e l’analisi di reti <br>\n",
    "    •PyVis: gestisce rappresentazioni interattive di reti anche molto complesse"
   ],
   "metadata": {
    "collapsed": false,
    "pycharm": {
     "name": "#%% md\n"
    }
   }
  },
  {
   "cell_type": "code",
   "execution_count": null,
   "metadata": {
    "collapsed": false,
    "jupyter": {
     "outputs_hidden": false
    },
    "pycharm": {
     "name": "#%%\n"
    }
   },
   "outputs": [],
   "source": [
    "from tweepy import TweepError as twE\n",
    "import tweepy as tw\n",
    "import os\n",
    "import json\n",
    "import random\n",
    "from networkx.algorithms.approximation import clique as clq\n",
    "import networkx as nx\n",
    "from pyvis.network import Network\n",
    "import pandas as pd"
   ]
  },
  {
   "cell_type": "markdown",
   "source": [
    "## Configurazione parametri API"
   ],
   "metadata": {
    "collapsed": false
   }
  },
  {
   "cell_type": "code",
   "execution_count": null,
   "metadata": {
    "collapsed": false,
    "jupyter": {
     "outputs_hidden": false
    },
    "pycharm": {
     "name": "#%%\n"
    }
   },
   "outputs": [],
   "source": [
    "#Twitter API credentials\n",
    "api_key = \"FzUscQQNsdWhkxebVGFZyuHsh\"\n",
    "api_secret = \"Tr1OqulWQIYYI6aEpWVOb7U5NL9DoRtCAviXh4tYg4LXg9sBZe\"\n",
    "access_token = \"1040603971637923845-9uZqYh42gsCmwoDCB9nTcoSHrHwiV8\"\n",
    "access_secret = \"OsZL0PZC9WDw6Xwcl2ASpIisyfkKW3Bwu4BomNgWxAcj0\"\n",
    "bearer_token = \"AAAAAAAAAAAAAAAAAAAAAJQUJQEAAAAA%2B5CTzK8KotMS%2FuB61Dlul7ijBE4%3D5uWZb7w1FPD6nb4SpvmnZ4hxGjqGwzfMquWPHQQooS3jkgNg67\"\n",
    "\n",
    "auth = tw.OAuthHandler(api_key, api_secret)\n",
    "auth.set_access_token(access_token, access_secret)\n",
    "api = tw.API(auth, wait_on_rate_limit=True, wait_on_rate_limit_notify=True, timeout=240)\n",
    "\n",
    "if api.verify_credentials:\n",
    "    print ('Authentication completed successfully!')"
   ]
  },
  {
   "cell_type": "markdown",
   "source": [
    "## Definizione funzioni JSON\n",
    "\n",
    "Abbiamo realizzato due funzioni utili per maneggiare i file json: <br>\n",
    "    • **serialize_json**: serializza dei dati in formato JSON in un dato file <br>\n",
    "    •  **read_json**: acquisisce dati in formato JSON da un dato dile <br>"
   ],
   "metadata": {
    "collapsed": false
   }
  },
  {
   "cell_type": "code",
   "execution_count": null,
   "metadata": {
    "collapsed": false,
    "jupyter": {
     "outputs_hidden": false
    },
    "pycharm": {
     "name": "#%%\n"
    }
   },
   "outputs": [],
   "source": [
    "data_folder = \"data\"\n",
    "\n",
    "def serialize_json(folder, filename, data):\n",
    "    if not os.path.exists(folder):\n",
    "        os.makedirs(folder, exist_ok=True)\n",
    "    with open(f\"{folder}/{filename}\", 'w', encoding='utf-8') as f:\n",
    "        json.dump(data, f, ensure_ascii=False, indent=4)\n",
    "        f.close()\n",
    "    print(f\"Data serialized to path: {folder}/{filename}\")\n",
    "\n",
    "def read_json(path):\n",
    "    if os.path.exists(path):\n",
    "        with open(path, \"r\", encoding=\"utf8\") as file:\n",
    "            data = json.load(file)\n",
    "        print(f\"Data read from path: {path}\")\n",
    "        return data\n",
    "    else:\n",
    "        print(f\"No data found at path: {path}\")\n",
    "        return {}"
   ]
  },
  {
   "cell_type": "markdown",
   "source": [
    "## Definizione funzioni di download\n",
    "\n",
    "Per gestire l'ottenimento dei dati necessari abbiamo sviluppato le seguenti due funzioni: <br><br>\n",
    "    • **download**: Scarica i dati di un certo insieme di utenti (follower o following) e li salva in un file JSON <br>\n",
    "                *accounts* --> vettore contenenti gli screen_name dei quali si vogliono scaricare i dati (vettore)<br>\n",
    "                *what* --> specifica il cosa voglio scaricare (stringa) <br>\n",
    "                *quantity* --> quantità di followers/followings si vogliono scaricare (intero) <br>\n",
    "                *operation* --> funzione dell'API da chiamere (funzione) <br>"
   ],
   "metadata": {
    "collapsed": false
   }
  },
  {
   "cell_type": "code",
   "execution_count": null,
   "outputs": [],
   "source": [
    "def download(users, what, quantity, operation):\n",
    "    i = 0\n",
    "\n",
    "    for user in users:\n",
    "        data= []\n",
    "        print(f\"Downloading {what} di {user}\")\n",
    "\n",
    "        for item in tw.Cursor(\n",
    "            operation,\n",
    "            screen_name=user,\n",
    "            skip_status=True,\n",
    "            include_user_entities=False\n",
    "        ).items(quantity[i]):\n",
    "\n",
    "            retriveData(item, data)\n",
    "\n",
    "        serialize_json(data_folder, f\"{user}-{what}s.json\", data)\n",
    "        print(f\"ho serializzato un totale di {len(data)} dati \\n\")\n",
    "        i += 1"
   ],
   "metadata": {
    "collapsed": false,
    "pycharm": {
     "name": "#%%\n"
    }
   }
  },
  {
   "cell_type": "markdown",
   "source": [
    "• **retriveData**: estrae solo i dati necessari da quelli ricevuti dall'API <br>"
   ],
   "metadata": {
    "collapsed": false
   }
  },
  {
   "cell_type": "code",
   "execution_count": null,
   "outputs": [],
   "source": [
    "def retriveData(item, data):\n",
    "    json_data = item._json\n",
    "    found_follower = {}\n",
    "\n",
    "    found_follower[\"id\"] = json_data[\"id\"]\n",
    "    found_follower[\"name\"] = json_data[\"name\"]\n",
    "    found_follower[\"screen_name\"] = json_data[\"screen_name\"]\n",
    "    found_follower[\"location\"] = json_data[\"location\"]\n",
    "\n",
    "    data.append(found_follower)"
   ],
   "metadata": {
    "collapsed": false,
    "pycharm": {
     "name": "#%%\n"
    }
   }
  },
  {
   "cell_type": "markdown",
   "metadata": {
    "pycharm": {
     "name": "#%% md\n"
    }
   },
   "source": [
    "# 1) Download dei primi 5 utenti\n",
    "\n",
    "Scaricamento utenti followers e following dei primi 5 account forniti:\n",
    "\n",
    "* @mizzaro\n",
    "* @damiano10\n",
    "* @Miccighel_\n",
    "* @eglu81\n",
    "* @KevinRoitero\n",
    "\n",
    "Nel frammento sottostante si possono notare 3 array:\n",
    "* **accounts**: contiene i nomi degli utenti da scaricare\n",
    "* **followers**: contiene il numero di follower degli utenti nell'array \"accounts\"\n",
    "* **followings**: contiene il numero di following degli utenti nell'array \"accounts\""
   ]
  },
  {
   "cell_type": "code",
   "execution_count": null,
   "outputs": [],
   "source": [
    "accounts = [\"mizzaro\" , \"damiano10\", \"Miccighel_\", \"eglu81\", \"KevinRoitero\"]\n",
    "followers = [157, 786, 332, 539, 103]\n",
    "followings = [331, 837, 212, 621, 256]"
   ],
   "metadata": {
    "collapsed": false,
    "pycharm": {
     "name": "#%%\n"
    }
   }
  },
  {
   "cell_type": "markdown",
   "metadata": {
    "pycharm": {
     "name": "#%% md\n"
    }
   },
   "source": [
    "## Download follower"
   ]
  },
  {
   "cell_type": "code",
   "execution_count": null,
   "outputs": [],
   "source": [
    "download(accounts, \"follower\", followers, api.followers)\n",
    "print(\"Download terminato\")"
   ],
   "metadata": {
    "collapsed": false,
    "pycharm": {
     "name": "#%%\n"
    }
   }
  },
  {
   "cell_type": "markdown",
   "metadata": {
    "pycharm": {
     "name": "#%% md\n"
    }
   },
   "source": [
    "## Download following"
   ]
  },
  {
   "cell_type": "code",
   "execution_count": null,
   "outputs": [],
   "source": [
    "download(accounts, \"following\", followings, api.friends)\n",
    "print(\"Download terminato\")"
   ],
   "metadata": {
    "collapsed": false,
    "pycharm": {
     "name": "#%%\n"
    }
   }
  },
  {
   "cell_type": "markdown",
   "metadata": {
    "pycharm": {
     "name": "#%% md\n"
    }
   },
   "source": [
    "# 2) Download degli altri utenti\n",
    "\n",
    "Per ciascuno degli utenti iniziali, sono stati scelti:\n",
    "* 5 followers a caso, e per ognuno di questi sono stati scaricati 10 loro followers (*followers of followers*)\n",
    "* 5 following a caso, e per ognuno di questi sono stati scaricati 10 loro following (*followings of followings*)\n",
    "\n",
    "## Definizione funzioni utili\n",
    "\n",
    "Per lo svolgimento di questo punto abbiamo deciso di creare le seguenti 3 funzioni di supporto:\n",
    "* **rndIndex**: dati una quantità K e un valore massimo M ritorna un array contenente K indici compresi tra 0 e M"
   ]
  },
  {
   "cell_type": "code",
   "execution_count": null,
   "outputs": [],
   "source": [
    "def rndIndex(quantity, max):\n",
    "    rndNum = []\n",
    "\n",
    "    while len(rndNum) < quantity:\n",
    "        pos = random.randint(0, max)\n",
    "\n",
    "        if pos not in rndNum:\n",
    "            rndNum.append(pos)\n",
    "    return rndNum"
   ],
   "metadata": {
    "collapsed": false,
    "pycharm": {
     "name": "#%%\n"
    }
   }
  },
  {
   "cell_type": "markdown",
   "source": [
    "* **retriveAccounts**: dato un array contenente gli id di alcuni utenti, e dato un file da cui leggere i dati, restituisce\n",
    "un array con i relativi"
   ],
   "metadata": {
    "collapsed": false
   }
  },
  {
   "cell_type": "code",
   "execution_count": null,
   "outputs": [],
   "source": [
    "#recupera gli screen_name dei 5 account random\n",
    "def retriveAccounts(rnd, file):\n",
    "    data = read_json(f\"{data_folder}/{file}\")\n",
    "    newAccounts = []\n",
    "\n",
    "    for index in rnd:\n",
    "        #controllo che aaccount selezionato abbia più di 10 followers\n",
    "        item = data[index]\n",
    "        newAccounts.append(item[\"screen_name\"])\n",
    "\n",
    "    return newAccounts"
   ],
   "metadata": {
    "collapsed": false,
    "pycharm": {
     "name": "#%%\n"
    }
   }
  },
  {
   "cell_type": "markdown",
   "source": [
    "* **specificQuantityDownload**: analoga alla funzione *download()* vista prima, con la differenza che il parametro quantity\n",
    "è un valore intero fisso e valido per tutte le iterazioni tra gli utenti (ad es. per ogni utente dobbiamo scaricare sempre\n",
    "10 follower/following)"
   ],
   "metadata": {
    "collapsed": false
   }
  },
  {
   "cell_type": "code",
   "execution_count": null,
   "outputs": [],
   "source": [
    "def specificQuantityDownload(users, what, quantity, operation):\n",
    "\n",
    "   for user in users:\n",
    "        data= []\n",
    "        print(f\"Downloading {what} di {user}\")\n",
    "\n",
    "        for item in tw.Cursor(\n",
    "            operation,\n",
    "            screen_name=user,\n",
    "            skip_status=True,\n",
    "            include_user_entities=False\n",
    "        ).items(quantity):\n",
    "\n",
    "            retriveData(item, data)\n",
    "\n",
    "        serialize_json(data_folder, f\"{user}-{what}s.json\", data)\n",
    "        print(f\"ho serializzato un totale di {len(data)} dati \\n\")"
   ],
   "metadata": {
    "collapsed": false,
    "pycharm": {
     "name": "#%%\n"
    }
   }
  },
  {
   "cell_type": "markdown",
   "metadata": {},
   "source": [
    "## Download followers of followers"
   ]
  },
  {
   "cell_type": "code",
   "execution_count": null,
   "outputs": [],
   "source": [
    "i = 0\n",
    "for account in accounts:\n",
    "    max = followers[i]\n",
    "\n",
    "    rndNum = rndIndex(5, max)\n",
    "\n",
    "    specificQuantityDownload(\n",
    "        retriveAccounts(rndNum, f\"{account}-followers.json\"),\n",
    "        f\"{account}-followersOfFollower\",\n",
    "        10,\n",
    "        api.followers\n",
    "    )\n",
    "\n",
    "    i += 1\n",
    "\n",
    "print(\"Download terminato\")"
   ],
   "metadata": {
    "collapsed": false,
    "pycharm": {
     "name": "#%%\n"
    }
   }
  },
  {
   "cell_type": "markdown",
   "metadata": {},
   "source": [
    "## Download followings of followings"
   ]
  },
  {
   "cell_type": "code",
   "execution_count": null,
   "outputs": [],
   "source": [
    "i = 0\n",
    "for account in accounts:\n",
    "    max = followings[i]\n",
    "\n",
    "    rndNum = rndIndex(5, max)\n",
    "\n",
    "    specificQuantityDownload(\n",
    "        retriveAccounts(rndNum, f\"{account}-followings.json\"),\n",
    "        f\"{account}-followingsOfFollowing\",\n",
    "        10,\n",
    "        api.friends\n",
    "    )\n",
    "\n",
    "    i += 1\n",
    "\n",
    "print(\"Download terminato\")"
   ],
   "metadata": {
    "collapsed": false,
    "pycharm": {
     "name": "#%%\n"
    }
   }
  },
  {
   "cell_type": "markdown",
   "metadata": {
    "pycharm": {
     "name": "#%% md\n"
    }
   },
   "source": [
    "# 3) Download dei dettagli dei profili\n",
    "Tramite la chiamata *api.get_user* andremo a scaricare i dettagli del profilo di tutti gli utenti\n",
    "finora ottenuti.\n",
    "\n",
    "Anche per questa parte andiamo a descrivere le funzioni di supporto sviluppate:\n",
    "\n",
    "* **downloadUserDataFromString**: scarica i dettagli dell'utente, a partire dal suo screen_name."
   ]
  },
  {
   "cell_type": "code",
   "execution_count": null,
   "metadata": {
    "collapsed": false,
    "jupyter": {
     "outputs_hidden": false
    },
    "pycharm": {
     "name": "#%%\n"
    }
   },
   "outputs": [],
   "source": [
    "def downloadUserDataFromString(users, output):\n",
    "    for user in users:\n",
    "        print(f\"Downloading userData di {user}\")\n",
    "\n",
    "        foundUser = api.get_user(user)\n",
    "        retriveUserData(foundUser, output)\n",
    "\n",
    "    return output"
   ]
  },
  {
   "cell_type": "markdown",
   "source": [
    "* **downloadUserDataFromObject**: scarica i dettagli dell'utente, a partire dal suo oggetto JSON."
   ],
   "metadata": {
    "collapsed": false
   }
  },
  {
   "cell_type": "code",
   "execution_count": null,
   "outputs": [],
   "source": [
    "def downloadUserDataFromObject(users, output):\n",
    "    for user in users:\n",
    "        print(f\"Downloading userData di {user['screen_name']}\")\n",
    "        try:\n",
    "            foundUser = api.get_user(user[\"id\"])\n",
    "            retriveUserData(foundUser, output)\n",
    "        except twE: #usato per gestire il caso in cui il profilo risulta impossibile da scaricare\n",
    "            print(\"User not found!\")\n",
    "\n",
    "    return output"
   ],
   "metadata": {
    "collapsed": false,
    "pycharm": {
     "name": "#%%\n"
    }
   }
  },
  {
   "cell_type": "markdown",
   "source": [
    "* **retriveUserData**: filtra soltanto i dati strettamente necessari."
   ],
   "metadata": {
    "collapsed": false
   }
  },
  {
   "cell_type": "code",
   "execution_count": null,
   "outputs": [],
   "source": [
    "def retriveUserData(item, data):\n",
    "    json_data = item._json\n",
    "\n",
    "    profile_data = {}\n",
    "\n",
    "    profile_data[\"id\"] = json_data[\"id\"]\n",
    "    profile_data[\"name\"] = json_data[\"name\"]\n",
    "    profile_data[\"screen_name\"] = json_data[\"screen_name\"]\n",
    "    profile_data[\"location\"] = json_data[\"location\"]\n",
    "    profile_data[\"description\"] = json_data[\"description\"]\n",
    "    profile_data[\"followers_count\"] = json_data[\"followers_count\"]\n",
    "\n",
    "    if profile_data not in data:\n",
    "        data.append(profile_data)"
   ],
   "metadata": {
    "collapsed": false,
    "pycharm": {
     "name": "#%%\n"
    }
   }
  },
  {
   "cell_type": "markdown",
   "source": [
    "## Download info utenti"
   ],
   "metadata": {
    "collapsed": false,
    "pycharm": {
     "name": "#%% md\n"
    }
   }
  },
  {
   "cell_type": "code",
   "execution_count": null,
   "outputs": [],
   "source": [
    "#lista dei file contenuti nella directory \"data\"\n",
    "lstFile = os.listdir(data_folder)\n",
    "\n",
    "if \"usersData.json\" not in lstFile:\n",
    "    userData = []\n",
    "\n",
    "    # 1. download user data degli utenti di partenza(mizzaro, damiano10,...)\n",
    "    downloadUserDataFromString(accounts, userData)\n",
    "\n",
    "    # 1. download user data degli altri utenti\n",
    "    for file in lstFile:\n",
    "       jsonItems = read_json(f\"{data_folder}/{file}\")\n",
    "\n",
    "       downloadUserDataFromObject(jsonItems, userData)\n",
    "\n",
    "    print(f\"ho serializzato un totale di {len(userData)} dati \\n\")\n",
    "\n",
    "    serialize_json(data_folder, f\"usersData.json\", userData)\n",
    "else:\n",
    "    print(\"I dati utente sono già stati serializzati in precedenza\")\n",
    "\n",
    "print(\"Download terminato\")"
   ],
   "metadata": {
    "collapsed": false,
    "pycharm": {
     "name": "#%%\n"
    }
   }
  },
  {
   "cell_type": "markdown",
   "metadata": {
    "pycharm": {
     "name": "#%% md\n"
    }
   },
   "source": [
    "# 4) Verifica delle relazioni\n",
    "La seguente funzione va a verificare le relazioni (follow/following) tra i 5 utenti iniziali e gli altri\n",
    "utenti scaricati, mostrando a terminale il risultato della verifica."
   ]
  },
  {
   "cell_type": "code",
   "execution_count": null,
   "outputs": [],
   "source": [
    "def checkFriendships(nodes):\n",
    "    for i in range(5):\n",
    "        for j in range(10):\n",
    "        # for j in (len(nodes)): #ABILITARE QUESTA PER VERIFICARE TUTTE LE COPPIE\n",
    "\n",
    "            if i != j:\n",
    "                friendship = api.show_friendship(source_id=nodes[i][\"id\"], target_id= nodes[j][\"id\"])\n",
    "\n",
    "                if friendship[0].followed_by:\n",
    "                    print(f\"{nodes[i]['screen_name']} è seguito da {nodes[j]['screen_name']}\")\n",
    "                else:\n",
    "                    print(f\"{nodes[i]['screen_name']} non è seguito da {nodes[j]['screen_name']}\")\n",
    "\n",
    "                if friendship[0].following:\n",
    "                    print(f\"{nodes[i]['screen_name']} segue {nodes[j]['screen_name']}\")\n",
    "                else:\n",
    "                    print(f\"{nodes[i]['screen_name']} non segue {nodes[j]['screen_name']}\")\n",
    "\n",
    "                print(\"\\n\")\n",
    "\n",
    "checkFriendships(read_json(f\"{data_folder}/usersData.json\"))\n",
    "#esempio d'esecuzione di controllo dell'esistenza di relazioni\n",
    "#(verifica per circa 50 coppie di coppie per utente iniziale)"
   ],
   "metadata": {
    "collapsed": false,
    "pycharm": {
     "name": "#%%\n"
    }
   }
  },
  {
   "cell_type": "markdown",
   "source": [
    "# 5) Creazione della rete\n",
    "\n",
    "In questa parte si va a creare il grafo tramite le funioni di NetworkX.\n",
    "\n",
    "Abbiamo creato la seguente funzione **createIdDictionary** che restituisce un dizionario composto\n",
    "da una coppia *screen_name* - *id*"
   ],
   "metadata": {
    "collapsed": false,
    "pycharm": {
     "name": "#%% md\n"
    }
   }
  },
  {
   "cell_type": "code",
   "execution_count": null,
   "outputs": [],
   "source": [
    "def createIdDictionary(lst):\n",
    "    id = {}\n",
    "    for item in lst:\n",
    "        id.update({f\"{item['screen_name']}\": item[\"id\"]})\n",
    "\n",
    "    return id"
   ],
   "metadata": {
    "collapsed": false,
    "pycharm": {
     "name": "#%%\n"
    }
   }
  },
  {
   "cell_type": "markdown",
   "source": [
    "Effettuiamo una verifica preliminare per stabilire se è già stato creato in precedenza (ossia\n",
    "se il file è già presente), in tal caso non eseguiamo nuovamente la creazione."
   ],
   "metadata": {
    "collapsed": false
   }
  },
  {
   "cell_type": "code",
   "execution_count": null,
   "outputs": [],
   "source": [
    "pwd = os.listdir()\n",
    "lstFile = os.listdir(data_folder)\n",
    "\n",
    "if \"twtNet_graph.pkl\" in pwd:\n",
    "    twtNet = nx.read_gpickle(\"twtNet_graph.pkl\")\n",
    "    print(\"Recupero del grafo di twitter\")\n",
    "else:\n",
    "    nodes = read_json(f\"{data_folder}/usersData.json\")\n",
    "\n",
    "    #inizializzazione grafo\n",
    "    twtNet = nx.DiGraph(group_members= [\"Gasparollo Denis\", \"Francescut Matteo\", \"Bensi Martino\", \"Rizzetto Sasha\"])\n",
    "\n",
    "    #aggiunta nodi\n",
    "    for node in nodes:\n",
    "        twtNet.add_node(node[\"id\"],\n",
    "                        name= node[\"name\"],\n",
    "                        screen_name= node[\"screen_name\"],\n",
    "                        location= node[\"location\"],\n",
    "                        description= node[\"description\"],\n",
    "                        followers_count= node[\"followers_count\"])\n",
    "    print(nx.number_of_nodes(twtNet))\n",
    "\n",
    "    #creazione dizionario screen_name - id\n",
    "    idDictionary = createIdDictionary(nodes)\n",
    "\n",
    "    #aggiunta archi\n",
    "    for file in lstFile:\n",
    "\n",
    "        if \"usersData\" not in file:\n",
    "            splitedFileName = file.split(sep= \"-\", maxsplit=3)\n",
    "\n",
    "            for user in read_json(f\"{data_folder}/{file}\"):\n",
    "\n",
    "                if \"followings\" in splitedFileName[len(splitedFileName) - 1]:\n",
    "                    twtNet.add_edge(idDictionary[splitedFileName[0]], user[\"id\"])\n",
    "                elif \"followers\" in splitedFileName[len(splitedFileName) - 1]:\n",
    "                    twtNet.add_edge(user[\"id\"], idDictionary[splitedFileName[0]])\n",
    "\n",
    "    print(\"Il grafo è stato costruito con successo!\")\n",
    "    nx.write_gpickle(twtNet, \"twtNet_graph.pkl\")"
   ],
   "metadata": {
    "collapsed": false,
    "pycharm": {
     "name": "#%%\n"
    }
   }
  },
  {
   "cell_type": "markdown",
   "metadata": {
    "pycharm": {
     "name": "#%% md\n"
    }
   },
   "source": [
    "# 6) Creazione visualizzazione interattiva\n",
    "\n",
    "Definiamo ora i parametri per l'inizializzazione della visualizzazione"
   ]
  },
  {
   "cell_type": "code",
   "execution_count": null,
   "metadata": {
    "collapsed": false,
    "jupyter": {
     "outputs_hidden": false
    },
    "pycharm": {
     "name": "#%%\n"
    }
   },
   "outputs": [],
   "source": [
    "net = Network(\n",
    "    height = \"100%\",\n",
    "    width = \"100%\",\n",
    "    directed=True,\n",
    "    bgcolor = \"#222222\",\n",
    "    font_color = \"white\",\n",
    "    heading = \"Rete Sociale\"\n",
    ")"
   ]
  },
  {
   "cell_type": "markdown",
   "source": [
    "Adesso inizializziamo la mappa PyVis a partire dalla rete NetworkX"
   ],
   "metadata": {
    "collapsed": false
   }
  },
  {
   "cell_type": "code",
   "execution_count": null,
   "outputs": [],
   "source": [
    "net.barnes_hut()\n",
    "net.from_nx(twtNet)\n",
    "neighbor_map = net.get_adj_list()\n",
    "\n",
    "for node in net.nodes:\n",
    "    node[\"value\"] = len(neighbor_map[node[\"id\"]])"
   ],
   "metadata": {
    "collapsed": false,
    "pycharm": {
     "name": "#%%\n"
    }
   }
  },
  {
   "cell_type": "markdown",
   "source": [
    "Mostriamo la mappa creata"
   ],
   "metadata": {
    "collapsed": false
   }
  },
  {
   "cell_type": "code",
   "execution_count": null,
   "outputs": [],
   "source": [
    "net.show(\"twtNet.html\")"
   ],
   "metadata": {
    "collapsed": false,
    "pycharm": {
     "name": "#%%\n"
    }
   }
  },
  {
   "cell_type": "markdown",
   "metadata": {
    "pycharm": {
     "name": "#%% md\n"
    }
   },
   "source": [
    "# 7) Verifiche di connessione e di bipartizione\n",
    "\n",
    "Il risultato della verifica viene mostrato a terminale"
   ]
  },
  {
   "cell_type": "code",
   "execution_count": null,
   "outputs": [],
   "source": [
    "if \"twtNet_graph.pkl\" in os.listdir():\n",
    "    twtNet = nx.read_gpickle(\"twtNet_graph.pkl\")\n",
    "\n",
    "    if  nx.is_connected(nx.to_undirected(twtNet)):\n",
    "        print(\"Il grafo è connesso\")\n",
    "    else:\n",
    "        print(\"Il grafo non è connesso\")\n",
    "    if nx.is_bipartite(twtNet):\n",
    "        print(\"Il grafo è bipartito\")\n",
    "    else:\n",
    "        print(\"Il grafo non è bipartito\")\n",
    "else:\n",
    "    print(\"Grafo non ancora creato!\")"
   ],
   "metadata": {
    "collapsed": false,
    "pycharm": {
     "name": "#%%\n"
    }
   }
  },
  {
   "cell_type": "markdown",
   "metadata": {
    "pycharm": {
     "name": "#%% md\n"
    }
   },
   "source": [
    "Il grafo risulta **connesso** ma **non bipartito**.\n",
    "\n",
    "# 8) Misurazioni di distanze\n",
    "\n",
    "In questa sezione andiamo a effettuare le misurazioni di **centro, diametro e raggio**."
   ]
  },
  {
   "cell_type": "code",
   "execution_count": null,
   "outputs": [],
   "source": [
    "if \"twtNet_graph.pkl\" in os.listdir():\n",
    "    twtNet = nx.read_gpickle(\"twtNet_graph.pkl\")\n",
    "    undirTwtNet = nx.to_undirected(twtNet)\n",
    "\n",
    "    center = nx.center(undirTwtNet)\n",
    "    diameter = nx.diameter(undirTwtNet)\n",
    "    radius = nx.radius(undirTwtNet)\n",
    "else:\n",
    "    print(\"Grafo non ancora creato!\")"
   ],
   "metadata": {
    "collapsed": false,
    "pycharm": {
     "name": "#%%\n"
    }
   }
  },
  {
   "cell_type": "markdown",
   "source": [
    "Il risultato della verifica viene mostrato a terminale"
   ],
   "metadata": {
    "collapsed": false,
    "pycharm": {
     "name": "#%% md\n"
    }
   }
  },
  {
   "cell_type": "code",
   "execution_count": null,
   "outputs": [],
   "source": [
    "print(f\"Centro: {center}\")\n",
    "print(f\"Diametro: {diameter}\")\n",
    "print(f\"Raggio: {radius}\")"
   ],
   "metadata": {
    "collapsed": false,
    "pycharm": {
     "name": "#%%\n"
    }
   }
  },
  {
   "cell_type": "markdown",
   "metadata": {
    "pycharm": {
     "name": "#%% md\n"
    }
   },
   "source": [
    "# 9) Misurazioni di centralità\n",
    "\n",
    "Vengono ora calcolate le seguenti misure di centralità:\n",
    "\n",
    "* Betweenness centrality\n",
    "* Closeness centrality\n",
    "* Degree centrality\n",
    "* In-degree centrality\n",
    "* Out-degree centrality\n",
    "* Page Rank"
   ]
  },
  {
   "cell_type": "code",
   "execution_count": null,
   "outputs": [],
   "source": [
    "if \"twtNet_graph.pkl\" in os.listdir():\n",
    "    twtNet = nx.read_gpickle(\"twtNet_graph.pkl\")\n",
    "\n",
    "    betweennessCentrality = nx.betweenness_centrality(twtNet)\n",
    "    closenessCentrality = nx.closeness_centrality(twtNet)\n",
    "    degreeCentrality = nx.degree_centrality(twtNet)\n",
    "    inCentrality = nx.in_degree_centrality(twtNet)\n",
    "    outCentrality = nx.out_degree_centrality(twtNet)\n",
    "    pageRank = nx.pagerank(twtNet)\n",
    "    hits = nx.hits(twtNet, max_iter=150)\n",
    "\n",
    "    print(\"Calcolo centralità terminato!\")\n",
    "else:\n",
    "     print(\"Grafo non ancora creato!\")"
   ],
   "metadata": {
    "collapsed": false,
    "pycharm": {
     "name": "#%%\n"
    }
   }
  },
  {
   "cell_type": "markdown",
   "source": [
    "Il risultato del calcolo viene mostrato a terminale"
   ],
   "metadata": {
    "collapsed": false
   }
  },
  {
   "cell_type": "code",
   "execution_count": null,
   "outputs": [],
   "source": [
    "print(f\"Betweenness centrality: {betweennessCentrality}\")\n",
    "print(f\"Closeness centrality: {closenessCentrality}\")\n",
    "print(f\"Degree centrality: {degreeCentrality}\")\n",
    "print(f\"IN degree centrality: {inCentrality}\")\n",
    "print(f\"OUT degree centrality: {outCentrality}\")\n",
    "print(f\"Page rank: {pageRank}\")\n",
    "print(f\"HITS hubs: {hits[0]}\")\n",
    "print(f\"HITS authorities: {hits[1]}\")"
   ],
   "metadata": {
    "collapsed": false,
    "pycharm": {
     "name": "#%%\n"
    }
   }
  },
  {
   "cell_type": "markdown",
   "metadata": {
    "pycharm": {
     "name": "#%% md\n"
    }
   },
   "source": [
    "# 10) Creazione del sottografo\n",
    "\n",
    "Creiamo il sottografo scegliendo come nodo centrale l'utente KevinRoitero (id: 3036907250).<br>"
   ]
  },
  {
   "cell_type": "code",
   "execution_count": null,
   "outputs": [],
   "source": [
    "pwd = os.listdir()\n",
    "\n",
    "if \"twtNet_graph.pkl\" in pwd:\n",
    "    twtNet = nx.read_gpickle(\"twtNet_graph.pkl\")\n",
    "\n",
    "    # partiamo dall'utente KevinRoitero (id: 3036907250)\n",
    "    roiteroGraph = nx.ego_graph(twtNet, 3036907250, radius=1)\n",
    "    # calcoliamo la cricca massima\n",
    "    clique = clq.max_clique(nx.to_undirected(roiteroGraph))\n",
    "    # creaiamo il sottografo della cricca massima\n",
    "    cliqueGraph = twtNet.subgraph(clique)\n",
    "    nx.write_gpickle(clique, \"maxClique_graph.pkl\")\n",
    "else:\n",
    "    print(\"Grafo non ancora creato!\")"
   ],
   "metadata": {
    "collapsed": false,
    "pycharm": {
     "name": "#%%\n"
    }
   }
  },
  {
   "cell_type": "markdown",
   "source": [
    "Stampiamo ora una visualizzazione del sottografo e la sua dimensione."
   ],
   "metadata": {
    "collapsed": false
   }
  },
  {
   "cell_type": "code",
   "execution_count": null,
   "outputs": [],
   "source": [
    "nx.draw_networkx(cliqueGraph)\n",
    "print(f\"La dimensione del sottografo calcolato sulla cricca massima vale: {clq.large_clique_size(nx.to_undirected(roiteroGraph))}\")"
   ],
   "metadata": {
    "collapsed": false,
    "pycharm": {
     "name": "#%%\n"
    }
   }
  },
  {
   "cell_type": "markdown",
   "metadata": {
    "pycharm": {
     "name": "#%% md\n"
    }
   },
   "source": [
    "# 11) Calcolo della copertura minima degli archi\n",
    "\n",
    "Il risultato verrà mostrato a terminale"
   ]
  },
  {
   "cell_type": "code",
   "execution_count": null,
   "outputs": [],
   "source": [
    "if \"twtNet_graph.pkl\" in os.listdir():\n",
    "    twtNet = nx.read_gpickle(\"twtNet_graph.pkl\")\n",
    "\n",
    "    minCover = nx.min_edge_cover(nx.to_undirected(twtNet))\n",
    "    print(f\"Copertura minima arco: {minCover}\")\n",
    "else:\n",
    "    print(\"Grafo non ancora creato!\")"
   ],
   "metadata": {
    "collapsed": false,
    "pycharm": {
     "name": "#%%\n"
    }
   }
  },
  {
   "cell_type": "markdown",
   "metadata": {
    "pycharm": {
     "name": "#%% md\n"
    }
   },
   "source": [
    "# 12) Osservazione del fenomeno \"small-worldness\"\n",
    "\n",
    "In questa sezione effettueremo la stima di due coefficienti per osservare il fenomeno \"small-worldness\"\n",
    "sulla rete oggetto di studio.<br>\n",
    "Calcoleremo due valori:\n",
    "* **Coefficiente omega**: compreso tra -1 e 1. Valori vicini allo 0 rappresentano bene la \"small-worldness\".\n",
    "* **Coefficiente sigma**: Valori maggiori di 1 rappresentano bene la \"small-worldness\".\n"
   ]
  },
  {
   "cell_type": "code",
   "execution_count": null,
   "outputs": [],
   "source": [
    "if \"twtNet_graph.pkl\" in os.listdir():\n",
    "    twtNet = nx.read_gpickle(\"twtNet_graph.pkl\")\n",
    "\n",
    "    #da vedere i parametri\n",
    "    omega = nx.omega(nx.to_undirected(twtNet), niter=5, nrand=5)\n",
    "    print(f\"Coefficiente omega: {omega}\")\n",
    "    sigma = nx.sigma(nx.to_undirected(twtNet), niter=5, nrand=5)\n",
    "    print(f\"Coefficiente sigma: {sigma}\")\n",
    "else:\n",
    "    print(\"Grafo non ancora creato!\")"
   ],
   "metadata": {
    "collapsed": false,
    "pycharm": {
     "name": "#%%\n"
    }
   }
  },
  {
   "cell_type": "markdown",
   "source": [
    "**Interpretazione**<br>\n",
    "I risultati ottenuti ci inducono ad affermare, come ci si aspetterebbe,\n",
    "che la rete possiede le caretteristiche di \"small-worldness\".\n",
    "<br>Più nel dettaglio il *coefficiente omega* supporta pienamente questa ipotesi, essendo molto prossimo allo zero.\n",
    "<br>Il *coefficiente sigma* invece, seppur prossimo all'uno, risulta abbastanza contraddittorio. Infatti il valore\n",
    "atteso per una rete \"small-world\" dovrebbe essere superiore a 1.\n",
    "<br>Ipotizziamo che lo scostamento verificato possa\n",
    "essere imputabile alle semplificazioni apportate alla rete per motivi di limitazioni computazionali."
   ],
   "metadata": {
    "collapsed": false,
    "pycharm": {
     "name": "#%% md\n"
    }
   }
  },
  {
   "cell_type": "markdown",
   "source": [
    "# 13) Calcolo della correlazione fra le misure di centralità\n",
    "\n",
    "Riportiamo qui sotto il codice che restituisce in output una tabella rappresentativa di\n",
    "alcune misure di centralità calcolate in precedenza."
   ],
   "metadata": {
    "collapsed": false
   }
  },
  {
   "cell_type": "code",
   "execution_count": null,
   "outputs": [],
   "source": [
    "dfCentrality = pd.DataFrame(\n",
    "    {\"between_centrality\": betweennessCentrality,\n",
    "     \"closeness_centrality\": closenessCentrality,\n",
    "     \"degree_centrality\": degreeCentrality,\n",
    "     \"in_degree_centrality\": inCentrality,\n",
    "     \"out_degree_centrality\": outCentrality,\n",
    "     \"page_rank\": pageRank,\n",
    "     \"hits_hub\": hits[0],\n",
    "     \"hirs_authorities\": hits[1]\n",
    "})\n",
    "\n",
    "dfCentrality"
   ],
   "metadata": {
    "collapsed": false,
    "pycharm": {
     "name": "#%%\n"
    }
   }
  },
  {
   "cell_type": "markdown",
   "source": [
    "## Coefficienti di correlazione di Pearson (Rho)"
   ],
   "metadata": {
    "collapsed": false
   }
  },
  {
   "cell_type": "code",
   "execution_count": null,
   "outputs": [],
   "source": [
    "dfCentrality.corr(\"pearson\")"
   ],
   "metadata": {
    "collapsed": false,
    "pycharm": {
     "name": "#%%\n"
    }
   }
  },
  {
   "cell_type": "markdown",
   "source": [
    "## Coefficienti di correlazione di Kendall (Tau)"
   ],
   "metadata": {
    "collapsed": false
   }
  },
  {
   "cell_type": "code",
   "execution_count": null,
   "outputs": [],
   "source": [
    "dfCentrality.corr(\"kendall\")"
   ],
   "metadata": {
    "collapsed": false,
    "pycharm": {
     "name": "#%%\n"
    }
   }
  },
  {
   "cell_type": "markdown",
   "source": [
    "# Appendice: codice aggiuntivo\n",
    "\n",
    "## Rappresentazione grafica delle misure di centralità\n",
    "\n",
    "La seguente funzione genera dei grafici delle varie misure di centralità e le salva in un file\n",
    "*.pdf* all'interno della directory */centrality*"
   ],
   "metadata": {
    "collapsed": false
   }
  },
  {
   "cell_type": "code",
   "execution_count": null,
   "outputs": [],
   "source": [
    "import matplotlib.pyplot as plt\n",
    "from pylab import rcParams\n",
    "\n",
    "def draw(G, pos, measures, measureName):\n",
    "    nodes = nx.draw_networkx_nodes(G, pos, node_size=5, cmap=plt.cm.plasma,\n",
    "                                   node_color=list(measures.values()),\n",
    "                                   nodelist=measures.keys(),\n",
    "                                   linewidths=0.1,)\n",
    "\n",
    "    edges = nx.draw_networkx_edges(G, pos)\n",
    "    plt.title(measureName)\n",
    "    plt.colorbar(nodes)\n",
    "    plt.axis('off')\n",
    "    rcParams['figure.figsize'] = 10, 10\n",
    "    #plt.show()\n",
    "    plt.savefig(f\"centrality/{measureName}.pdf\")"
   ],
   "metadata": {
    "collapsed": false,
    "pycharm": {
     "name": "#%%\n"
    }
   }
  },
  {
   "cell_type": "markdown",
   "source": [
    "**Betweenness centrality**"
   ],
   "metadata": {
    "collapsed": false
   }
  },
  {
   "cell_type": "code",
   "execution_count": null,
   "outputs": [],
   "source": [
    "draw(twtNet,\n",
    "     nx.spring_layout(twtNet),\n",
    "     betweennessCentrality,\n",
    "     \"Between centrality\")"
   ],
   "metadata": {
    "collapsed": false,
    "pycharm": {
     "name": "#%%\n"
    }
   }
  },
  {
   "cell_type": "markdown",
   "source": [
    "**Closeness centrality**"
   ],
   "metadata": {
    "collapsed": false
   }
  },
  {
   "cell_type": "code",
   "execution_count": null,
   "outputs": [],
   "source": [
    "draw(twtNet,\n",
    "     nx.spring_layout(twtNet),\n",
    "     closenessCentrality,\n",
    "     \"Closeness centrality\")"
   ],
   "metadata": {
    "collapsed": false,
    "pycharm": {
     "name": "#%%\n"
    }
   }
  },
  {
   "cell_type": "markdown",
   "source": [
    "**Degree centrality**"
   ],
   "metadata": {
    "collapsed": false,
    "pycharm": {
     "name": "#%% md\n"
    }
   }
  },
  {
   "cell_type": "code",
   "execution_count": null,
   "outputs": [],
   "source": [
    "draw(twtNet,\n",
    "     nx.spring_layout(twtNet),\n",
    "     degreeCentrality,\n",
    "     \"Degree centrality\")"
   ],
   "metadata": {
    "collapsed": false,
    "pycharm": {
     "name": "#%%\n"
    }
   }
  },
  {
   "cell_type": "markdown",
   "source": [
    "**IN-Degree centrality**"
   ],
   "metadata": {
    "collapsed": false,
    "pycharm": {
     "name": "#%% md\n"
    }
   }
  },
  {
   "cell_type": "code",
   "execution_count": null,
   "outputs": [],
   "source": [
    "draw(twtNet,\n",
    "     nx.spring_layout(twtNet),\n",
    "     inCentrality,\n",
    "     \"IN-Degree centrality\")"
   ],
   "metadata": {
    "collapsed": false,
    "pycharm": {
     "name": "#%%\n"
    }
   }
  },
  {
   "cell_type": "markdown",
   "source": [
    "**OUT-Degree centrality**"
   ],
   "metadata": {
    "collapsed": false,
    "pycharm": {
     "name": "#%% md\n"
    }
   }
  },
  {
   "cell_type": "code",
   "execution_count": null,
   "outputs": [],
   "source": [
    "draw(twtNet,\n",
    "     nx.spring_layout(twtNet),\n",
    "     outCentrality,\n",
    "     \"OUT-Degree centrality\")"
   ],
   "metadata": {
    "collapsed": false,
    "pycharm": {
     "name": "#%%\n"
    }
   }
  },
  {
   "cell_type": "markdown",
   "source": [
    "**PageRank**"
   ],
   "metadata": {
    "collapsed": false,
    "pycharm": {
     "name": "#%% md\n"
    }
   }
  },
  {
   "cell_type": "code",
   "execution_count": null,
   "outputs": [],
   "source": [
    "draw(twtNet,\n",
    "     nx.spring_layout(twtNet),\n",
    "     pageRank,\n",
    "     \"PageRank\")"
   ],
   "metadata": {
    "collapsed": false,
    "pycharm": {
     "name": "#%%\n"
    }
   }
  },
  {
   "cell_type": "markdown",
   "source": [
    "**HITS (hubs)**"
   ],
   "metadata": {
    "collapsed": false,
    "pycharm": {
     "name": "#%% md\n"
    }
   }
  },
  {
   "cell_type": "code",
   "execution_count": null,
   "outputs": [],
   "source": [
    "draw(twtNet,\n",
    "     nx.spring_layout(twtNet),\n",
    "     hits[0],\n",
    "     \"HITS(hubs)\")"
   ],
   "metadata": {
    "collapsed": false,
    "pycharm": {
     "name": "#%%\n"
    }
   }
  },
  {
   "cell_type": "markdown",
   "source": [
    "**HITS (authorities)**"
   ],
   "metadata": {
    "collapsed": false,
    "pycharm": {
     "name": "#%% md\n"
    }
   }
  },
  {
   "cell_type": "code",
   "execution_count": null,
   "outputs": [],
   "source": [
    "draw(twtNet,\n",
    "     nx.spring_layout(twtNet),\n",
    "     hits[1],\n",
    "     \"HITS(authorities)\")"
   ],
   "metadata": {
    "collapsed": false,
    "pycharm": {
     "name": "#%%\n"
    }
   }
  },
  {
   "cell_type": "markdown",
   "source": [
    "## Download \"globale\" delle info utente\n",
    "\n",
    "Abbiamo deciso, per motivi di memory usage, di recuperare solo porzione degli oggetti restituiti\n",
    "dalle funzioni (api.followers, api.friends e api.get_user). <br>\n",
    "Per completezza riportiamo qui sotto un esempio di download dell'intero oggetto: basta sostituire\n",
    " all'interno dei download la seguente funzione. <br>\n",
    "L'esempio qui sotto è stato fatto per alcuni followers di mizzaro e per i dati utenti\n",
    "(file: allmizzaro-followers.json)"
   ],
   "metadata": {
    "collapsed": false
   }
  },
  {
   "cell_type": "markdown",
   "source": [
    "**retriveAllData**"
   ],
   "metadata": {
    "collapsed": false
   }
  },
  {
   "cell_type": "code",
   "execution_count": null,
   "outputs": [],
   "source": [
    "def retriveAllData(item, data):\n",
    "    json_data = item._json\n",
    "    found_follower = json_data\n",
    "\n",
    "    data.append(found_follower)"
   ],
   "metadata": {
    "collapsed": false,
    "pycharm": {
     "name": "#%%\n"
    }
   }
  },
  {
   "cell_type": "markdown",
   "source": [
    "**download**"
   ],
   "metadata": {
    "collapsed": false
   }
  },
  {
   "cell_type": "code",
   "execution_count": null,
   "outputs": [],
   "source": [
    "def download(user, what, quantity, operation):\n",
    "    data= []\n",
    "    print(f\"Downloading {what} di {user}\")\n",
    "\n",
    "    for item in tw.Cursor(\n",
    "        operation,\n",
    "        screen_name=user,\n",
    "        skip_status=True,\n",
    "        include_user_entities=False\n",
    "    ).items(quantity):\n",
    "\n",
    "        retriveAllData(item, data)\n",
    "\n",
    "    serialize_json(os.getcwd(), f\"all{user}-{what}s.json\", data)\n",
    "    print(f\"ho serializzato un totale di {len(data)} dati \\n\")"
   ],
   "metadata": {
    "collapsed": false,
    "pycharm": {
     "name": "#%%\n"
    }
   }
  },
  {
   "cell_type": "markdown",
   "source": [
    "**Esecuzione delle funzioni**"
   ],
   "metadata": {
    "collapsed": false
   }
  },
  {
   "cell_type": "code",
   "execution_count": null,
   "outputs": [],
   "source": [
    "#all followers info\n",
    "download(\"mizzaro\", \"follower\", 10, api.followers)\n",
    "\n",
    "userInfo= []\n",
    "user = \"mizzaro\"\n",
    "\n",
    "print(f\"Downloading info utente di {user}\")\n",
    "\n",
    "info = api.get_user(user)\n",
    "retriveAllData(info, userInfo)\n",
    "serialize_json(os.getcwd(), \"mizzaro-complete-userInfo.json\", userInfo)"
   ],
   "metadata": {
    "collapsed": false,
    "pycharm": {
     "name": "#%%\n"
    }
   }
  },
  {
   "cell_type": "markdown",
   "source": [
    "## Merging file JSON\n",
    "\n",
    "La funzione in questione effettua un'operazione di merge dei vari file JSON scaricati in un unico file."
   ],
   "metadata": {
    "collapsed": false,
    "pycharm": {
     "name": "#%% md\n"
    }
   }
  },
  {
   "cell_type": "code",
   "execution_count": null,
   "outputs": [],
   "source": [
    "def mergeJSON():\n",
    "    usersInfo = read_json(f\"{data_folder}/usersData.json\")\n",
    "    lstFile = os.listdir(data_folder)\n",
    "\n",
    "    #print(usersInfo[0][\"followers\"])\n",
    "\n",
    "    for file in lstFile:\n",
    "        splittedFileName = file.split(sep=\"-\", maxsplit=3)\n",
    "\n",
    "        for user in usersInfo:\n",
    "            if (user[\"screen_name\"] == splittedFileName[0]) and (\"users\" not in file):\n",
    "                follows = read_json(f\"{data_folder}/{file}\")\n",
    "\n",
    "                if \"follower\" in splittedFileName[len(splittedFileName) - 1]:\n",
    "                    user[\"followers\"] = follows\n",
    "                elif \"following\" in splittedFileName[len(splittedFileName) - 1]:\n",
    "                    user[\"followings\"] = follows\n",
    "\n",
    "                break\n",
    "\n",
    "    serialize_json(os.getcwd(), \"mergedData.json\", usersInfo)\n",
    "\n",
    "mergeJSON()"
   ],
   "metadata": {
    "collapsed": false,
    "pycharm": {
     "name": "#%%\n"
    }
   }
  }
 ],
 "metadata": {
  "kernelspec": {
   "display_name": "Python 3",
   "language": "python",
   "name": "python3"
  },
  "language_info": {
   "codemirror_mode": {
    "name": "ipython",
    "version": 3
   },
   "file_extension": ".py",
   "mimetype": "text/x-python",
   "name": "python",
   "nbconvert_exporter": "python",
   "pygments_lexer": "ipython3",
   "version": "3.8.3"
  }
 },
 "nbformat": 4,
 "nbformat_minor": 4
}