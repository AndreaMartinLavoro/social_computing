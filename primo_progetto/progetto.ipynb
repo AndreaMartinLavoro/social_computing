{
 "cells": [
  {
   "cell_type": "code",
   "execution_count": 1,
   "metadata": {
    "collapsed": false,
    "jupyter": {
     "outputs_hidden": false
    },
    "pycharm": {
     "name": "#%%\n"
    }
   },
   "outputs": [],
   "source": [
    "from tweepy import TweepError as twE\n",
    "import tweepy as tw\n",
    "import os\n",
    "import json\n",
    "import random\n",
    "from networkx.algorithms.approximation import clique as clq\n",
    "import networkx as nx\n",
    "from pyvis.network import Network\n",
    "import pandas as pd\n"
   ]
  },
  {
   "cell_type": "code",
   "execution_count": 2,
   "metadata": {
    "collapsed": false,
    "jupyter": {
     "outputs_hidden": false
    },
    "pycharm": {
     "name": "#%%\n"
    }
   },
   "outputs": [
    {
     "name": "stdout",
     "output_type": "stream",
     "text": [
      "Authentication completed successfully!\n"
     ]
    }
   ],
   "source": [
    "#Twitter API credentials\n",
    "api_key = \"FzUscQQNsdWhkxebVGFZyuHsh\"\n",
    "api_secret = \"Tr1OqulWQIYYI6aEpWVOb7U5NL9DoRtCAviXh4tYg4LXg9sBZe\"\n",
    "access_token = \"1040603971637923845-9uZqYh42gsCmwoDCB9nTcoSHrHwiV8\"\n",
    "access_secret = \"OsZL0PZC9WDw6Xwcl2ASpIisyfkKW3Bwu4BomNgWxAcj0\"\n",
    "bearer_token = \"AAAAAAAAAAAAAAAAAAAAAJQUJQEAAAAA%2B5CTzK8KotMS%2FuB61Dlul7ijBE4%3D5uWZb7w1FPD6nb4SpvmnZ4hxGjqGwzfMquWPHQQooS3jkgNg67\"\n",
    "\n",
    "auth = tw.OAuthHandler(api_key, api_secret)\n",
    "auth.set_access_token(access_token, access_secret)\n",
    "api = tw.API(auth, wait_on_rate_limit=True, wait_on_rate_limit_notify=True, timeout=240)\n",
    "#attributo timeout indica la durata della connessione\n",
    "\n",
    "if api.verify_credentials:\n",
    "    print ('Authentication completed successfully!')"
   ]
  },
  {
   "cell_type": "code",
   "execution_count": 3,
   "metadata": {
    "collapsed": false,
    "jupyter": {
     "outputs_hidden": false
    },
    "pycharm": {
     "name": "#%%\n"
    }
   },
   "outputs": [],
   "source": [
    "data_folder = \"data\"\n",
    "\n",
    "def serialize_json(folder, filename, data):\n",
    "    if not os.path.exists(folder):\n",
    "        os.makedirs(folder, exist_ok=True)\n",
    "    with open(f\"{folder}/{filename}\", 'w', encoding='utf-8') as f:\n",
    "        json.dump(data, f, ensure_ascii=False, indent=4)\n",
    "        f.close()\n",
    "    print(f\"Data serialized to path: {folder}/{filename}\")\n",
    "\n",
    "def read_json(path):\n",
    "    if os.path.exists(path):\n",
    "        with open(path, \"r\", encoding=\"utf8\") as file:\n",
    "            data = json.load(file)\n",
    "        print(f\"Data read from path: {path}\")\n",
    "        return data\n",
    "    else:\n",
    "        print(f\"No data found at path: {path}\")\n",
    "        return {}"
   ]
  },
  {
   "cell_type": "markdown",
   "metadata": {
    "pycharm": {
     "name": "#%% md\n"
    }
   },
   "source": [
    "1. Scaricamento utenti followers ( api.followers ) e utenti following (api.friends ) dei seguenti\n",
    "    cinque account (i dati numerici potrebbero subire minime variazioni):\n",
    "\n",
    "    ○ @mizzaro <br>\n",
    "    ○ @damiano10 <br>\n",
    "    ○ @Miccighel_ <br>\n",
    "    ○ @eglu81 <br>\n",
    "    ○ @KevinRoitero\n"
   ]
  },
  {
   "cell_type": "code",
   "execution_count": 19,
   "outputs": [],
   "source": [
    "accounts = [\"mizzaro\" , \"damiano10\", \"Miccighel_\", \"eglu81\", \"KevinRoitero\"]\n",
    "followers = [157, 786, 332, 539, 103]\n",
    "followings = [331, 837, 212, 621, 256]"
   ],
   "metadata": {
    "collapsed": false,
    "pycharm": {
     "name": "#%%\n"
    }
   }
  },
  {
   "cell_type": "markdown",
   "metadata": {
    "pycharm": {
     "name": "#%% md\n"
    }
   },
   "source": [
    "accounts --> vettore contenenti gli screen_name dei quali si vogliono scaricare i dati (vettore)<br>\n",
    "what --> specifica il cosa voglio scaricare (stringa) <br>\n",
    "quantity --> quantità di followers/followings si vogliono scaricare (intero) <br>\n",
    "operation --> funzione dell'API da chiamere (funzione)"
   ]
  },
  {
   "cell_type": "code",
   "execution_count": null,
   "metadata": {
    "collapsed": false,
    "jupyter": {
     "outputs_hidden": false
    },
    "pycharm": {
     "name": "#%%\n"
    }
   },
   "outputs": [],
   "source": [
    "#download passando vettore di quantità\n",
    "def download(users, what, quantity, operation):\n",
    "    i = 0\n",
    "\n",
    "    for user in users:\n",
    "        data= []\n",
    "        print(f\"Downloading {what} di {user}\")\n",
    "\n",
    "        for item in tw.Cursor(\n",
    "            operation,\n",
    "            screen_name=user,\n",
    "            skip_status=True,\n",
    "            include_user_entities=False\n",
    "        ).items(quantity[i]):\n",
    "\n",
    "            retriveData(item, data)\n",
    "\n",
    "        serialize_json(data_folder, f\"{user}-{what}s.json\", data)\n",
    "        print(f\"ho serializzato un totale di {len(data)} dati \\n\")\n",
    "        i += 1\n",
    "\n",
    "def retriveData(item, data):\n",
    "    json_data = item._json\n",
    "    found_follower = {}\n",
    "\n",
    "    found_follower[\"id\"] = json_data[\"id\"]\n",
    "    found_follower[\"name\"] = json_data[\"name\"]\n",
    "    found_follower[\"screen_name\"] = json_data[\"screen_name\"]\n",
    "    found_follower[\"location\"] = json_data[\"location\"]\n",
    "\n",
    "    data.append(found_follower)"
   ]
  },
  {
   "cell_type": "markdown",
   "metadata": {
    "pycharm": {
     "name": "#%% md\n"
    }
   },
   "source": [
    "## Download follower"
   ]
  },
  {
   "cell_type": "code",
   "execution_count": null,
   "outputs": [],
   "source": [
    "download(accounts, \"follower\", followers, api.followers)\n",
    "print(\"Download terminato\")"
   ],
   "metadata": {
    "collapsed": false,
    "pycharm": {
     "name": "#%%\n"
    }
   }
  },
  {
   "cell_type": "markdown",
   "metadata": {
    "pycharm": {
     "name": "#%% md\n"
    }
   },
   "source": [
    "## Download following"
   ]
  },
  {
   "cell_type": "code",
   "execution_count": null,
   "outputs": [],
   "source": [
    "download(accounts, \"following\", followings, api.friends)\n",
    "print(\"Download terminato\")"
   ],
   "metadata": {
    "collapsed": false,
    "pycharm": {
     "name": "#%%\n"
    }
   }
  },
  {
   "cell_type": "markdown",
   "metadata": {
    "pycharm": {
     "name": "#%% md\n"
    }
   },
   "source": [
    "2. Scegliete 5 utenti followers a caso tra quelli di ciascuno dei cinque account e\n",
    "    scaricate ulteriori 10 utenti followers ( followers dei followers )\n"
   ]
  },
  {
   "cell_type": "code",
   "execution_count": null,
   "metadata": {
    "collapsed": false,
    "jupyter": {
     "outputs_hidden": false
    },
    "pycharm": {
     "name": "#%%\n"
    }
   },
   "outputs": [],
   "source": [
    "def rndIndex(quantity, max):\n",
    "    rndNum = []\n",
    "\n",
    "    while len(rndNum) < quantity:\n",
    "        pos = random.randint(0, max)\n",
    "\n",
    "        if pos not in rndNum:\n",
    "            rndNum.append(pos)\n",
    "    return rndNum\n",
    "\n",
    "#recupera gli screen_name dei 5 account random\n",
    "def retriveAccounts(rnd, file):\n",
    "    data = read_json(f\"{data_folder}/{file}\")\n",
    "    newAccounts = []\n",
    "\n",
    "    for index in rnd:\n",
    "        #controllo che aaccount selezionato abbia più di 10 followers\n",
    "        item = data[index]\n",
    "\n",
    "        if len(api.followers_ids(item[\"screen_name\"])) >= 10 :\n",
    "            newAccounts.append(item[\"screen_name\"])\n",
    "            #non gestisce il caso in cui ci siano meno di 10 amici\n",
    "\n",
    "    return newAccounts\n",
    "\n",
    "#download con quantity valore intero\n",
    "def specificQuantityDownload(users, what, quantity, operation):\n",
    "\n",
    "   for user in users:\n",
    "        data= []\n",
    "        print(f\"Downloading {what} di {user}\")\n",
    "\n",
    "        for item in tw.Cursor(\n",
    "            operation,\n",
    "            screen_name=user,\n",
    "            skip_status=True,\n",
    "            include_user_entities=False\n",
    "        ).items(quantity):\n",
    "\n",
    "            retriveData(item, data)\n",
    "\n",
    "        serialize_json(data_folder, f\"{user}-{what}s.json\", data)\n",
    "        print(f\"ho serializzato un totale di {len(data)} dati \\n\")"
   ]
  },
  {
   "cell_type": "markdown",
   "metadata": {},
   "source": [
    "## Download followers of followers"
   ]
  },
  {
   "cell_type": "code",
   "execution_count": null,
   "outputs": [],
   "source": [
    "i = 0\n",
    "for account in accounts:\n",
    "    max = followers[i]\n",
    "\n",
    "    rndNum = rndIndex(5, max)\n",
    "\n",
    "    specificQuantityDownload(retriveAccounts(rndNum, f\"{account}-followers.json\"),\n",
    "                                                f\"{account}-followersOfFollower\", 10, api.followers)\n",
    "    i += 1\n",
    "\n",
    "print(\"Download terminato\")"
   ],
   "metadata": {
    "collapsed": false,
    "pycharm": {
     "name": "#%%\n"
    }
   }
  },
  {
   "cell_type": "markdown",
   "metadata": {
    "pycharm": {
     "name": "#%% md\n"
    }
   },
   "source": [
    "3. Scegliete 5 utenti following a caso tra quelli di ciascuno dei cinque account e\n",
    "    scaricate ulteriori 10 utenti following ( following dei following )"
   ]
  },
  {
   "cell_type": "markdown",
   "metadata": {},
   "source": [
    "## Download followings of followings"
   ]
  },
  {
   "cell_type": "code",
   "execution_count": null,
   "outputs": [],
   "source": [
    "i = 0\n",
    "for account in accounts:\n",
    "    max = followings[i]\n",
    "\n",
    "    rndNum = rndIndex(5, max)\n",
    "\n",
    "    specificQuantityDownload(retriveAccounts(rndNum, f\"{account}-followings.json\"),\n",
    "                                                f\"{account}-followingsOfFollowing\", 10, api.friends)\n",
    "    i += 1\n",
    "\n",
    "print(\"Download terminato\")"
   ],
   "metadata": {
    "collapsed": false,
    "pycharm": {
     "name": "#%%\n"
    }
   }
  },
  {
   "cell_type": "markdown",
   "metadata": {
    "pycharm": {
     "name": "#%% md\n"
    }
   },
   "source": [
    "4. Scaricare i dettagli del profilo di tutti gli utenti recuperati ( api.get_user )\n"
   ]
  },
  {
   "cell_type": "code",
   "execution_count": null,
   "metadata": {
    "collapsed": false,
    "jupyter": {
     "outputs_hidden": false
    },
    "pycharm": {
     "name": "#%%\n"
    }
   },
   "outputs": [],
   "source": [
    "#si può togliere operation e vedere doc api.get_user\n",
    "def downloadUserDataFromString(users, output):\n",
    "    for user in users:\n",
    "        print(f\"Downloading userData di {user}\")\n",
    "\n",
    "        foundUser = api.get_user(user)\n",
    "        retriveUserData(foundUser, output)\n",
    "\n",
    "    return output\n",
    "\n",
    "def downloadUserDataFromObject(users, output):\n",
    "    for user in users:\n",
    "        print(f\"Downloading userData di {user['screen_name']}\")\n",
    "        try:\n",
    "            foundUser = api.get_user(user[\"id\"])\n",
    "            retriveUserData(foundUser, output)\n",
    "        except twE: #usato per gestire il caso in cui il profilo risulta impossibile da scaricare\n",
    "            print(\"User not found!\")\n",
    "\n",
    "    return output\n",
    "\n",
    "def retriveUserData(item, data):\n",
    "    json_data = item._json\n",
    "\n",
    "    profile_data = {}\n",
    "\n",
    "    profile_data[\"id\"] = json_data[\"id\"]\n",
    "    profile_data[\"name\"] = json_data[\"name\"]\n",
    "    profile_data[\"screen_name\"] = json_data[\"screen_name\"]\n",
    "    profile_data[\"location\"] = json_data[\"location\"]\n",
    "    profile_data[\"description\"] = json_data[\"description\"]\n",
    "    profile_data[\"followers_count\"] = json_data[\"followers_count\"]\n",
    "\n",
    "    if profile_data not in data:\n",
    "        data.append(profile_data)"
   ]
  },
  {
   "cell_type": "markdown",
   "source": [
    "## Download info utenti"
   ],
   "metadata": {
    "collapsed": false,
    "pycharm": {
     "name": "#%% md\n"
    }
   }
  },
  {
   "cell_type": "code",
   "execution_count": null,
   "outputs": [],
   "source": [
    "lstFile = os.listdir(data_folder)#lista dei file contenuti nella directory \"data\"\n",
    "\n",
    "if \"usersData.json\" not in lstFile:\n",
    "    userData = []\n",
    "    #download user data degli uterti di partenza(mizzaro, damiano10,...)\n",
    "    downloadUserDataFromString(accounts, userData)\n",
    "\n",
    "    for file in lstFile:\n",
    "       jsonItems = read_json(f\"{data_folder}/{file}\")\n",
    "\n",
    "       downloadUserDataFromObject(jsonItems, userData)\n",
    "\n",
    "    print(f\"ho serializzato un totale di {len(userData)} dati \\n\")\n",
    "\n",
    "    serialize_json(data_folder, f\"usersData.json\", userData)\n",
    "else:\n",
    "    print(\"I dati utente sono già stati serializzati in precedenza\")\n",
    "\n",
    "print(\"Download terminato\")"
   ],
   "metadata": {
    "collapsed": false,
    "pycharm": {
     "name": "#%%\n"
    }
   }
  },
  {
   "cell_type": "markdown",
   "metadata": {
    "pycharm": {
     "name": "#%% md\n"
    }
   },
   "source": [
    "5. Costruite la rete sociale (grafo):\n",
    "\n",
    "    ○ Inserite l’ id di ciascun utente come identificatore del nodo <br>\n",
    "    ○ Ogni arco rappresenta una relazione follows tra due utenti <br>\n",
    "    ○ La presenza della relazione va verificata tra tutti gli utenti scaricati ed i cinque account iniziali ( api.show_friendship ) <br>\n",
    "    ○ Inserite i dettagli del profilo di ciascun utente come attributi del nodo <br>\n",
    "    ○ Inserite i membri del vostro gruppo come attributi del grafo <br>\n",
    "    ○ Per ogni nodo, aggiungete un attributo con il numero di follower individuati\n"
   ]
  },
  {
   "cell_type": "code",
   "execution_count": null,
   "outputs": [],
   "source": [
    "#funzione che controlla se gli utenti iniziali con quelli scaricati sono in relazione tra di loro(follower o following)\n",
    "#Questa funzione non verrà eseguita per motivi di tempo\n",
    "def checkFriendships(nodes):\n",
    "    for i in range(5):\n",
    "        for j in range(10):#(len(nodes)):\n",
    "\n",
    "            if i != j:\n",
    "                friendship = api.show_friendship(source_id=nodes[i][\"id\"], target_id= nodes[j][\"id\"])\n",
    "\n",
    "                if friendship[0].followed_by:\n",
    "                    print(f\"{nodes[i]['screen_name']} è seguito da {nodes[j]['screen_name']}\")\n",
    "                else:\n",
    "                    print(f\"{nodes[i]['screen_name']} non è seguito da {nodes[j]['screen_name']}\")\n",
    "\n",
    "                if friendship[0].following:\n",
    "                    print(f\"{nodes[i]['screen_name']} segue {nodes[j]['screen_name']}\")\n",
    "                else:\n",
    "                    print(f\"{nodes[i]['screen_name']} non segue {nodes[j]['screen_name']}\")\n",
    "\n",
    "                print(\"\\n\")\n",
    "\n",
    "checkFriendships(read_json(f\"{data_folder}/usersData.json\"))\n",
    "#esempio d'esecuzione di controllo dell'esistenza di relazioni(verifica per circa 50 coppie di coppie per utente iniziale )"
   ],
   "metadata": {
    "collapsed": false,
    "pycharm": {
     "name": "#%%\n"
    }
   }
  },
  {
   "cell_type": "code",
   "execution_count": null,
   "outputs": [],
   "source": [
    "def createIdDictionary(lst):\n",
    "    id = {}\n",
    "    for item in lst:\n",
    "        id.update({f\"{item['screen_name']}\": item[\"id\"]})\n",
    "\n",
    "    return id\n",
    "\n",
    "pwd = os.listdir()\n",
    "lstFile = os.listdir(data_folder)\n",
    "\n",
    "if \"twtNet_graph.pkl\" in pwd:\n",
    "    twtNet = nx.read_gpickle(\"twtNet_graph.pkl\")\n",
    "    print(\"Recupero del grafo di twitter\")\n",
    "else:\n",
    "    nodes = read_json(f\"{data_folder}/usersData.json\")\n",
    "\n",
    "    twtNet = nx.DiGraph(group_members= [\"Gasparollo Denis\", \"Francescut Matteo\", \"Bensi Martino\", \"Rizzetto Sasha\"])\n",
    "    #aggiunta nodo\n",
    "    for node in nodes:\n",
    "        twtNet.add_node(node[\"id\"],\n",
    "                        name= node[\"name\"],\n",
    "                        screen_name= node[\"screen_name\"],\n",
    "                        location= node[\"location\"],\n",
    "                        description= node[\"description\"],\n",
    "                        followers_count= node[\"followers_count\"])\n",
    "    print(nx.number_of_nodes(twtNet))\n",
    "\n",
    "    #aggiunta archi\n",
    "    idDictionary = createIdDictionary(nodes)\n",
    "\n",
    "    for file in lstFile:\n",
    "\n",
    "        if \"usersData\" not in file:\n",
    "            splitedFileName = file.split(sep= \"-\", maxsplit=3)\n",
    "\n",
    "            for user in read_json(f\"{data_folder}/{file}\"):\n",
    "\n",
    "                if \"followings\" in splitedFileName[len(splitedFileName) - 1]:\n",
    "                    twtNet.add_edge(idDictionary[splitedFileName[0]], user[\"id\"])\n",
    "                elif \"followers\" in splitedFileName[len(splitedFileName) - 1]:\n",
    "                    twtNet.add_edge(user[\"id\"], idDictionary[splitedFileName[0]])\n",
    "\n",
    "    print(\"Il grafo è stato costruito con successo!\")\n",
    "    nx.write_gpickle(twtNet, \"twtNet_graph.pkl\")"
   ],
   "metadata": {
    "collapsed": false,
    "pycharm": {
     "name": "#%%\n"
    }
   }
  },
  {
   "cell_type": "markdown",
   "metadata": {
    "pycharm": {
     "name": "#%% md\n"
    }
   },
   "source": [
    "6. Producete una visualizzazione interattiva del grafo usando pyvis\n"
   ]
  },
  {
   "cell_type": "code",
   "execution_count": null,
   "metadata": {
    "collapsed": false,
    "jupyter": {
     "outputs_hidden": false
    },
    "pycharm": {
     "name": "#%%\n"
    }
   },
   "outputs": [],
   "source": [
    "#modificare parametri per cambiare la parte grafica\n",
    "net = Network(\n",
    "    height = \"100%\",\n",
    "    width = \"100%\",\n",
    "    directed=True,\n",
    "    bgcolor = \"#222222\",\n",
    "    font_color = \"white\",\n",
    "    heading = \"Rete Sociale\"\n",
    ")\n",
    "\n",
    "net.barnes_hut()#si possono cambiare parametri\n",
    "net.from_nx(twtNet)\n",
    "neighbor_map = net.get_adj_list()\n",
    "\n",
    "for node in net.nodes:\n",
    "    node[\"value\"] = len(neighbor_map[node[\"id\"]])\n",
    "\n",
    "net.show(\"twtNet.html\")"
   ]
  },
  {
   "cell_type": "markdown",
   "metadata": {
    "pycharm": {
     "name": "#%% md\n"
    }
   },
   "source": [
    "7. Verificate se il grafo:\n",
    "\n",
    "    ○ è connesso ( is_connected ) <br>\n",
    "    ○ è bipartito ( is_bipartite )"
   ]
  },
  {
   "cell_type": "code",
   "execution_count": 12,
   "outputs": [
    {
     "name": "stdout",
     "output_type": "stream",
     "text": [
      "Il grafo è connesso\n",
      "Il grafo non è bipartito\n"
     ]
    }
   ],
   "source": [
    "if \"twtNet_graph.pkl\" in os.listdir():\n",
    "    twtNet = nx.read_gpickle(\"twtNet_graph.pkl\")\n",
    "\n",
    "    if  nx.is_connected(nx.to_undirected(twtNet)):\n",
    "        print(\"Il grafo è connesso\")\n",
    "    else:\n",
    "        print(\"Il grafo non è connesso\")\n",
    "\n",
    "    if nx.is_bipartite(twtNet):\n",
    "        print(\"Il grafo è bipartito\")\n",
    "    else:\n",
    "        print(\"Il grafo non è bipartito\")\n",
    "else:\n",
    "    print(\"Grafo non ancora creato!\")"
   ],
   "metadata": {
    "collapsed": false,
    "pycharm": {
     "name": "#%%\n"
    }
   }
  },
  {
   "cell_type": "markdown",
   "metadata": {
    "pycharm": {
     "name": "#%% md\n"
    }
   },
   "source": [
    "8. Misurate le seguenti distanze sul grafo:\n",
    "\n",
    "    ○ Centro ( center ) <br>\n",
    "    ○ Diametro ( diameter ) <br>\n",
    "    ○ Raggio ( radius )\n"
   ]
  },
  {
   "cell_type": "code",
   "execution_count": null,
   "outputs": [],
   "source": [
    "if \"twtNet_graph.pkl\" in os.listdir():\n",
    "    twtNet = nx.read_gpickle(\"twtNet_graph.pkl\")\n",
    "\n",
    "    print(f\"Centro: {nx.center(nx.to_undirected(twtNet))}\")\n",
    "    print(f\"Diametro: {nx.diameter(nx.to_undirected(twtNet))}\")\n",
    "    print(f\"Raggio: {nx.radius(nx.to_undirected(twtNet))}\")\n",
    "else:\n",
    "    print(\"Grafo non ancora creato!\")"
   ],
   "metadata": {
    "collapsed": false,
    "pycharm": {
     "name": "#%%\n"
    }
   }
  },
  {
   "cell_type": "markdown",
   "metadata": {
    "pycharm": {
     "name": "#%% md\n"
    }
   },
   "source": [
    "9. Calcolate le seguenti misure di centralità sul grafo:\n",
    "\n",
    "    ○ Betweenness centrality ( betweenness_centrality ) <br>\n",
    "    ○ Closeness centrality ( closeness_centrality ) <br>\n",
    "    ○ Degree centrality ( degree_centrality ) <br>\n",
    "    ○ In-degree centrality ( in_degree_centrality ) <br>\n",
    "    ○ Out-degree centrality ( out_degree_centrality ) <br>\n",
    "    ○ Page Rank ( pagerank ) <br>\n",
    "    ○ HITS ( hits )\n"
   ]
  },
  {
   "cell_type": "code",
   "execution_count": 3,
   "outputs": [
    {
     "name": "stdout",
     "output_type": "stream",
     "text": [
      "Calcolo centralità terminato!\n"
     ]
    }
   ],
   "source": [
    "if \"twtNet_graph.pkl\" in os.listdir():\n",
    "    twtNet = nx.read_gpickle(\"twtNet_graph.pkl\")\n",
    "\n",
    "    betweennessCentrality = nx.betweenness_centrality(twtNet)\n",
    "    closenessCentrality = nx.closeness_centrality(twtNet)\n",
    "    degreeCentrality = nx.degree_centrality(twtNet)\n",
    "    inCentrality = nx.in_degree_centrality(twtNet)\n",
    "    outCentrality = nx.out_degree_centrality(twtNet)\n",
    "    pageRank = nx.pagerank(twtNet)\n",
    "    hits = nx.hits(twtNet, max_iter=150)\n",
    "\n",
    "    print(\"Calcolo centralità terminato!\")\n",
    "else:\n",
    "     print(\"Grafo non ancora creato!\")"
   ],
   "metadata": {
    "collapsed": false,
    "pycharm": {
     "name": "#%%\n"
    }
   }
  },
  {
   "cell_type": "code",
   "execution_count": null,
   "outputs": [],
   "source": [
    "print(f\"Betweenness centrality: {betweennessCentrality}\")\n",
    "print(f\"Closeness centrality: {closenessCentrality}\")\n",
    "print(f\"Degree centrality: {degreeCentrality}\")\n",
    "print(f\"IN degree centrality: {inCentrality}\")\n",
    "print(f\"OUT degree centrality: {outCentrality}\")\n",
    "print(f\"Page rank: {pageRank}\")\n",
    "print(f\"HITS hubs: {hits[0]}\")\n",
    "print(f\"HITS authorities: {hits[1]}\")"
   ],
   "metadata": {
    "collapsed": false,
    "pycharm": {
     "name": "#%%\n"
    }
   }
  },
  {
   "cell_type": "markdown",
   "metadata": {
    "pycharm": {
     "name": "#%% md\n"
    }
   },
   "source": [
    "10. Generate un sottografo del grafo ( ego_graph ) e calcolate:\n",
    "\n",
    "    ○ Cricca massima ( max_clique ) <br>\n",
    "    ○ Dimensione della cricca massima ( large_clique_size )"
   ]
  },
  {
   "cell_type": "code",
   "execution_count": null,
   "outputs": [],
   "source": [
    "pwd = os.listdir()\n",
    "\n",
    "\n",
    "if \"twtNet_graph.pkl\" in pwd:\n",
    "    twtNet = nx.read_gpickle(\"twtNet_graph.pkl\")\n",
    "\n",
    "    roiteroGraph = nx.ego_graph(twtNet, 3036907250, radius=1)\n",
    "    clique = clq.max_clique(nx.to_undirected(roiteroGraph))\n",
    "    cliqueGraph = twtNet.subgraph(clique)\n",
    "    nx.write_gpickle(clique, \"maxClique_graph.pkl\")\n",
    "else:\n",
    "    print(\"Grafo non ancora creato!\")\n",
    "\n",
    "nx.draw_networkx(cliqueGraph)\n",
    "print(f\"La dimensione del sottografo calcolato sulla cricca massima vale: {clq.large_clique_size(nx.to_undirected(roiteroGraph))}\")"
   ],
   "metadata": {
    "collapsed": false,
    "pycharm": {
     "name": "#%%\n"
    }
   }
  },
  {
   "cell_type": "markdown",
   "metadata": {
    "pycharm": {
     "name": "#%% md\n"
    }
   },
   "source": [
    "11. Calcolate la copertura minima degli archi ( min_edge_cover ) del grafo\n"
   ]
  },
  {
   "cell_type": "code",
   "execution_count": null,
   "outputs": [],
   "source": [
    "if \"twtNet_graph.pkl\" in os.listdir():\n",
    "    twtNet = nx.read_gpickle(\"twtNet_graph.pkl\")\n",
    "\n",
    "    minCover = nx.min_edge_cover(nx.to_undirected(twtNet))\n",
    "    print(f\"Copertura minima arco: {minCover}\")\n",
    "else:\n",
    "    print(\"Grafo non ancora creato!\")\n",
    "\n",
    "nx.draw_networkx()"
   ],
   "metadata": {
    "collapsed": false,
    "pycharm": {
     "name": "#%%\n"
    }
   }
  },
  {
   "cell_type": "markdown",
   "metadata": {
    "pycharm": {
     "name": "#%% md\n"
    }
   },
   "source": [
    "12. Calcolate i seguenti coefficienti per stimare la “small-world-ness” del grafo:\n",
    "\n",
    "    ○ Coefficiente omega ( omega ) <br>\n",
    "    ○ Coefficiente sigma ( sigma )"
   ]
  },
  {
   "cell_type": "code",
   "execution_count": 21,
   "outputs": [
    {
     "name": "stdout",
     "output_type": "stream",
     "text": [
      "Coefficiente omega: 0.04208759248255001\n",
      "Coefficiente sigma: 0.8408301205117785\n"
     ]
    }
   ],
   "source": [
    "if \"twtNet_graph.pkl\" in os.listdir():\n",
    "    twtNet = nx.read_gpickle(\"twtNet_graph.pkl\")\n",
    "\n",
    "    #da vedere i parametri\n",
    "    omega = nx.omega(nx.to_undirected(twtNet), niter=5, nrand=5)\n",
    "    print(f\"Coefficiente omega: {omega}\")\n",
    "    sigma = nx.sigma(nx.to_undirected(twtNet), niter=5, nrand=5)\n",
    "    print(f\"Coefficiente sigma: {sigma}\")\n",
    "else:\n",
    "    print(\"Grafo non ancora creato!\")"
   ],
   "metadata": {
    "collapsed": false,
    "pycharm": {
     "name": "#%%\n"
    }
   }
  },
  {
   "cell_type": "markdown",
   "source": [
    "    omega = 0.04208759248255001 molto vicino 0 --> grafo prende caratteristiche di modello piccolo mondo\n",
    "\n",
    "    sigma = 0.8408301205117785 < 1 --> grafo non si può classificare come grafo piccolo mondo"
   ],
   "metadata": {
    "collapsed": false,
    "pycharm": {
     "name": "#%% md\n"
    }
   }
  },
  {
   "cell_type": "markdown",
   "source": [
    "13. Calcolare la correlazione di Pearson Rho e di Kendall Tau fra le misure di centralità;\n",
    "    riportare il risultato in due tabelle"
   ],
   "metadata": {
    "collapsed": false,
    "pycharm": {
     "name": "#%% md\n"
    }
   }
  },
  {
   "cell_type": "code",
   "execution_count": 14,
   "outputs": [
    {
     "data": {
      "text/plain": "                     between_centrality  closeness_centrality  \\\n18932422                       0.053671              0.275478   \n132646210                      0.239781              0.365178   \n15750573                       0.112468              0.274166   \n19659370                       0.173588              0.338558   \n3036907250                     0.048493              0.265937   \n...                                 ...                   ...   \n797863519953764353             0.000000              0.000000   \n1251182739035795463            0.000000              0.000000   \n1281172664896360449            0.000000              0.000000   \n1284176128534409216            0.000000              0.000000   \n1319272146963673089            0.000000              0.000000   \n\n                     degree_centrality  in_degree_centrality  \\\n18932422                      0.155541              0.050144   \n132646210                     0.518045              0.251038   \n15750573                      0.173746              0.106036   \n19659370                      0.370489              0.172149   \n3036907250                    0.114660              0.032897   \n...                                ...                   ...   \n797863519953764353            0.000319              0.000000   \n1251182739035795463           0.000319              0.000000   \n1281172664896360449           0.000319              0.000000   \n1284176128534409216           0.000319              0.000000   \n1319272146963673089           0.000319              0.000000   \n\n                     out_degree_centrality  page_rank  hits_hub  \\\n18932422                          0.105398   0.023708  0.026042   \n132646210                         0.267007   0.121508  0.069893   \n15750573                          0.067710   0.058212  0.002266   \n19659370                          0.198339   0.084725  0.037860   \n3036907250                        0.081763   0.015357  0.017292   \n...                                    ...        ...       ...   \n797863519953764353                0.000319   0.000130  0.000022   \n1251182739035795463               0.000319   0.000130  0.000022   \n1281172664896360449               0.000319   0.000130  0.000022   \n1284176128534409216               0.000319   0.000130  0.000022   \n1319272146963673089               0.000319   0.000130  0.000659   \n\n                     hirs_authorities  \n18932422                     0.002456  \n132646210                    0.006888  \n15750573                     0.001397  \n19659370                     0.004365  \n3036907250                   0.001577  \n...                               ...  \n797863519953764353           0.000000  \n1251182739035795463          0.000000  \n1281172664896360449          0.000000  \n1284176128534409216          0.000000  \n1319272146963673089          0.000000  \n\n[3132 rows x 8 columns]",
      "text/html": "<div>\n<style scoped>\n    .dataframe tbody tr th:only-of-type {\n        vertical-align: middle;\n    }\n\n    .dataframe tbody tr th {\n        vertical-align: top;\n    }\n\n    .dataframe thead th {\n        text-align: right;\n    }\n</style>\n<table border=\"1\" class=\"dataframe\">\n  <thead>\n    <tr style=\"text-align: right;\">\n      <th></th>\n      <th>between_centrality</th>\n      <th>closeness_centrality</th>\n      <th>degree_centrality</th>\n      <th>in_degree_centrality</th>\n      <th>out_degree_centrality</th>\n      <th>page_rank</th>\n      <th>hits_hub</th>\n      <th>hirs_authorities</th>\n    </tr>\n  </thead>\n  <tbody>\n    <tr>\n      <th>18932422</th>\n      <td>0.053671</td>\n      <td>0.275478</td>\n      <td>0.155541</td>\n      <td>0.050144</td>\n      <td>0.105398</td>\n      <td>0.023708</td>\n      <td>0.026042</td>\n      <td>0.002456</td>\n    </tr>\n    <tr>\n      <th>132646210</th>\n      <td>0.239781</td>\n      <td>0.365178</td>\n      <td>0.518045</td>\n      <td>0.251038</td>\n      <td>0.267007</td>\n      <td>0.121508</td>\n      <td>0.069893</td>\n      <td>0.006888</td>\n    </tr>\n    <tr>\n      <th>15750573</th>\n      <td>0.112468</td>\n      <td>0.274166</td>\n      <td>0.173746</td>\n      <td>0.106036</td>\n      <td>0.067710</td>\n      <td>0.058212</td>\n      <td>0.002266</td>\n      <td>0.001397</td>\n    </tr>\n    <tr>\n      <th>19659370</th>\n      <td>0.173588</td>\n      <td>0.338558</td>\n      <td>0.370489</td>\n      <td>0.172149</td>\n      <td>0.198339</td>\n      <td>0.084725</td>\n      <td>0.037860</td>\n      <td>0.004365</td>\n    </tr>\n    <tr>\n      <th>3036907250</th>\n      <td>0.048493</td>\n      <td>0.265937</td>\n      <td>0.114660</td>\n      <td>0.032897</td>\n      <td>0.081763</td>\n      <td>0.015357</td>\n      <td>0.017292</td>\n      <td>0.001577</td>\n    </tr>\n    <tr>\n      <th>...</th>\n      <td>...</td>\n      <td>...</td>\n      <td>...</td>\n      <td>...</td>\n      <td>...</td>\n      <td>...</td>\n      <td>...</td>\n      <td>...</td>\n    </tr>\n    <tr>\n      <th>797863519953764353</th>\n      <td>0.000000</td>\n      <td>0.000000</td>\n      <td>0.000319</td>\n      <td>0.000000</td>\n      <td>0.000319</td>\n      <td>0.000130</td>\n      <td>0.000022</td>\n      <td>0.000000</td>\n    </tr>\n    <tr>\n      <th>1251182739035795463</th>\n      <td>0.000000</td>\n      <td>0.000000</td>\n      <td>0.000319</td>\n      <td>0.000000</td>\n      <td>0.000319</td>\n      <td>0.000130</td>\n      <td>0.000022</td>\n      <td>0.000000</td>\n    </tr>\n    <tr>\n      <th>1281172664896360449</th>\n      <td>0.000000</td>\n      <td>0.000000</td>\n      <td>0.000319</td>\n      <td>0.000000</td>\n      <td>0.000319</td>\n      <td>0.000130</td>\n      <td>0.000022</td>\n      <td>0.000000</td>\n    </tr>\n    <tr>\n      <th>1284176128534409216</th>\n      <td>0.000000</td>\n      <td>0.000000</td>\n      <td>0.000319</td>\n      <td>0.000000</td>\n      <td>0.000319</td>\n      <td>0.000130</td>\n      <td>0.000022</td>\n      <td>0.000000</td>\n    </tr>\n    <tr>\n      <th>1319272146963673089</th>\n      <td>0.000000</td>\n      <td>0.000000</td>\n      <td>0.000319</td>\n      <td>0.000000</td>\n      <td>0.000319</td>\n      <td>0.000130</td>\n      <td>0.000659</td>\n      <td>0.000000</td>\n    </tr>\n  </tbody>\n</table>\n<p>3132 rows × 8 columns</p>\n</div>"
     },
     "execution_count": 14,
     "metadata": {},
     "output_type": "execute_result"
    }
   ],
   "source": [
    "#tabelle delle centralità\n",
    "dfCentrality = pd.DataFrame({\"between_centrality\": betweennessCentrality,\n",
    "                             \"closeness_centrality\": closenessCentrality,\n",
    "                             \"degree_centrality\": degreeCentrality,\n",
    "                             \"in_degree_centrality\": inCentrality,\n",
    "                             \"out_degree_centrality\": outCentrality,\n",
    "                             \"page_rank\": pageRank,\n",
    "                             \"hits_hub\": hits[0],\n",
    "                             \"hirs_authorities\": hits[1]\n",
    "                             })\n",
    "\n",
    "dfCentrality"
   ],
   "metadata": {
    "collapsed": false,
    "pycharm": {
     "name": "#%%\n"
    }
   }
  },
  {
   "cell_type": "code",
   "execution_count": 17,
   "outputs": [
    {
     "data": {
      "text/plain": "                       between_centrality  closeness_centrality  \\\nbetween_centrality               1.000000              0.065170   \ncloseness_centrality             0.065170              1.000000   \ndegree_centrality                0.993015              0.075923   \nin_degree_centrality             0.996508              0.096306   \nout_degree_centrality            0.975441              0.056485   \npage_rank                        0.997209              0.085625   \nhits_hub                         0.908778              0.029402   \nhirs_authorities                 0.346496              0.727422   \n\n                       degree_centrality  in_degree_centrality  \\\nbetween_centrality              0.993015              0.996508   \ncloseness_centrality            0.075923              0.096306   \ndegree_centrality               1.000000              0.991489   \nin_degree_centrality            0.991489              1.000000   \nout_degree_centrality           0.993120              0.969422   \npage_rank                       0.987748              0.998782   \nhits_hub                        0.944820              0.912141   \nhirs_authorities                0.368928              0.379209   \n\n                       out_degree_centrality  page_rank  hits_hub  \\\nbetween_centrality                  0.975441   0.997209  0.908778   \ncloseness_centrality                0.056485   0.085625  0.029402   \ndegree_centrality                   0.993120   0.987748  0.944820   \nin_degree_centrality                0.969422   0.998782  0.912141   \nout_degree_centrality               1.000000   0.963467  0.960480   \npage_rank                           0.963467   1.000000  0.899004   \nhits_hub                            0.960480   0.899004  1.000000   \nhirs_authorities                    0.354319   0.363526  0.376567   \n\n                       hirs_authorities  \nbetween_centrality             0.346496  \ncloseness_centrality           0.727422  \ndegree_centrality              0.368928  \nin_degree_centrality           0.379209  \nout_degree_centrality          0.354319  \npage_rank                      0.363526  \nhits_hub                       0.376567  \nhirs_authorities               1.000000  ",
      "text/html": "<div>\n<style scoped>\n    .dataframe tbody tr th:only-of-type {\n        vertical-align: middle;\n    }\n\n    .dataframe tbody tr th {\n        vertical-align: top;\n    }\n\n    .dataframe thead th {\n        text-align: right;\n    }\n</style>\n<table border=\"1\" class=\"dataframe\">\n  <thead>\n    <tr style=\"text-align: right;\">\n      <th></th>\n      <th>between_centrality</th>\n      <th>closeness_centrality</th>\n      <th>degree_centrality</th>\n      <th>in_degree_centrality</th>\n      <th>out_degree_centrality</th>\n      <th>page_rank</th>\n      <th>hits_hub</th>\n      <th>hirs_authorities</th>\n    </tr>\n  </thead>\n  <tbody>\n    <tr>\n      <th>between_centrality</th>\n      <td>1.000000</td>\n      <td>0.065170</td>\n      <td>0.993015</td>\n      <td>0.996508</td>\n      <td>0.975441</td>\n      <td>0.997209</td>\n      <td>0.908778</td>\n      <td>0.346496</td>\n    </tr>\n    <tr>\n      <th>closeness_centrality</th>\n      <td>0.065170</td>\n      <td>1.000000</td>\n      <td>0.075923</td>\n      <td>0.096306</td>\n      <td>0.056485</td>\n      <td>0.085625</td>\n      <td>0.029402</td>\n      <td>0.727422</td>\n    </tr>\n    <tr>\n      <th>degree_centrality</th>\n      <td>0.993015</td>\n      <td>0.075923</td>\n      <td>1.000000</td>\n      <td>0.991489</td>\n      <td>0.993120</td>\n      <td>0.987748</td>\n      <td>0.944820</td>\n      <td>0.368928</td>\n    </tr>\n    <tr>\n      <th>in_degree_centrality</th>\n      <td>0.996508</td>\n      <td>0.096306</td>\n      <td>0.991489</td>\n      <td>1.000000</td>\n      <td>0.969422</td>\n      <td>0.998782</td>\n      <td>0.912141</td>\n      <td>0.379209</td>\n    </tr>\n    <tr>\n      <th>out_degree_centrality</th>\n      <td>0.975441</td>\n      <td>0.056485</td>\n      <td>0.993120</td>\n      <td>0.969422</td>\n      <td>1.000000</td>\n      <td>0.963467</td>\n      <td>0.960480</td>\n      <td>0.354319</td>\n    </tr>\n    <tr>\n      <th>page_rank</th>\n      <td>0.997209</td>\n      <td>0.085625</td>\n      <td>0.987748</td>\n      <td>0.998782</td>\n      <td>0.963467</td>\n      <td>1.000000</td>\n      <td>0.899004</td>\n      <td>0.363526</td>\n    </tr>\n    <tr>\n      <th>hits_hub</th>\n      <td>0.908778</td>\n      <td>0.029402</td>\n      <td>0.944820</td>\n      <td>0.912141</td>\n      <td>0.960480</td>\n      <td>0.899004</td>\n      <td>1.000000</td>\n      <td>0.376567</td>\n    </tr>\n    <tr>\n      <th>hirs_authorities</th>\n      <td>0.346496</td>\n      <td>0.727422</td>\n      <td>0.368928</td>\n      <td>0.379209</td>\n      <td>0.354319</td>\n      <td>0.363526</td>\n      <td>0.376567</td>\n      <td>1.000000</td>\n    </tr>\n  </tbody>\n</table>\n</div>"
     },
     "execution_count": 17,
     "metadata": {},
     "output_type": "execute_result"
    }
   ],
   "source": [
    "#calcolo coefficienti di correlazione di pearson\n",
    "dfCentrality.corr(\"pearson\")"
   ],
   "metadata": {
    "collapsed": false,
    "pycharm": {
     "name": "#%%\n"
    }
   }
  },
  {
   "cell_type": "code",
   "execution_count": 18,
   "outputs": [
    {
     "data": {
      "text/plain": "                       between_centrality  closeness_centrality  \\\nbetween_centrality               1.000000              0.139118   \ncloseness_centrality             0.139118              1.000000   \ndegree_centrality                0.352842              0.460035   \nin_degree_centrality             0.254479              0.791250   \nout_degree_centrality            0.265926             -0.314397   \npage_rank                        0.214026              0.820417   \nhits_hub                         0.161398             -0.202221   \nhirs_authorities                 0.144691              0.961653   \n\n                       degree_centrality  in_degree_centrality  \\\nbetween_centrality              0.352842              0.254479   \ncloseness_centrality            0.460035              0.791250   \ndegree_centrality               1.000000              0.587766   \nin_degree_centrality            0.587766              1.000000   \nout_degree_centrality           0.408041             -0.371451   \npage_rank                       0.538018              0.828113   \nhits_hub                        0.376041             -0.270011   \nhirs_authorities                0.514347              0.810806   \n\n                       out_degree_centrality  page_rank  hits_hub  \\\nbetween_centrality                  0.265926   0.214026  0.161398   \ncloseness_centrality               -0.314397   0.820417 -0.202221   \ndegree_centrality                   0.408041   0.538018  0.376041   \nin_degree_centrality               -0.371451   0.828113 -0.270011   \nout_degree_centrality               1.000000  -0.267117  0.812326   \npage_rank                          -0.267117   1.000000 -0.185083   \nhits_hub                            0.812326  -0.185083  1.000000   \nhirs_authorities                   -0.280521   0.821294 -0.170879   \n\n                       hirs_authorities  \nbetween_centrality             0.144691  \ncloseness_centrality           0.961653  \ndegree_centrality              0.514347  \nin_degree_centrality           0.810806  \nout_degree_centrality         -0.280521  \npage_rank                      0.821294  \nhits_hub                      -0.170879  \nhirs_authorities               1.000000  ",
      "text/html": "<div>\n<style scoped>\n    .dataframe tbody tr th:only-of-type {\n        vertical-align: middle;\n    }\n\n    .dataframe tbody tr th {\n        vertical-align: top;\n    }\n\n    .dataframe thead th {\n        text-align: right;\n    }\n</style>\n<table border=\"1\" class=\"dataframe\">\n  <thead>\n    <tr style=\"text-align: right;\">\n      <th></th>\n      <th>between_centrality</th>\n      <th>closeness_centrality</th>\n      <th>degree_centrality</th>\n      <th>in_degree_centrality</th>\n      <th>out_degree_centrality</th>\n      <th>page_rank</th>\n      <th>hits_hub</th>\n      <th>hirs_authorities</th>\n    </tr>\n  </thead>\n  <tbody>\n    <tr>\n      <th>between_centrality</th>\n      <td>1.000000</td>\n      <td>0.139118</td>\n      <td>0.352842</td>\n      <td>0.254479</td>\n      <td>0.265926</td>\n      <td>0.214026</td>\n      <td>0.161398</td>\n      <td>0.144691</td>\n    </tr>\n    <tr>\n      <th>closeness_centrality</th>\n      <td>0.139118</td>\n      <td>1.000000</td>\n      <td>0.460035</td>\n      <td>0.791250</td>\n      <td>-0.314397</td>\n      <td>0.820417</td>\n      <td>-0.202221</td>\n      <td>0.961653</td>\n    </tr>\n    <tr>\n      <th>degree_centrality</th>\n      <td>0.352842</td>\n      <td>0.460035</td>\n      <td>1.000000</td>\n      <td>0.587766</td>\n      <td>0.408041</td>\n      <td>0.538018</td>\n      <td>0.376041</td>\n      <td>0.514347</td>\n    </tr>\n    <tr>\n      <th>in_degree_centrality</th>\n      <td>0.254479</td>\n      <td>0.791250</td>\n      <td>0.587766</td>\n      <td>1.000000</td>\n      <td>-0.371451</td>\n      <td>0.828113</td>\n      <td>-0.270011</td>\n      <td>0.810806</td>\n    </tr>\n    <tr>\n      <th>out_degree_centrality</th>\n      <td>0.265926</td>\n      <td>-0.314397</td>\n      <td>0.408041</td>\n      <td>-0.371451</td>\n      <td>1.000000</td>\n      <td>-0.267117</td>\n      <td>0.812326</td>\n      <td>-0.280521</td>\n    </tr>\n    <tr>\n      <th>page_rank</th>\n      <td>0.214026</td>\n      <td>0.820417</td>\n      <td>0.538018</td>\n      <td>0.828113</td>\n      <td>-0.267117</td>\n      <td>1.000000</td>\n      <td>-0.185083</td>\n      <td>0.821294</td>\n    </tr>\n    <tr>\n      <th>hits_hub</th>\n      <td>0.161398</td>\n      <td>-0.202221</td>\n      <td>0.376041</td>\n      <td>-0.270011</td>\n      <td>0.812326</td>\n      <td>-0.185083</td>\n      <td>1.000000</td>\n      <td>-0.170879</td>\n    </tr>\n    <tr>\n      <th>hirs_authorities</th>\n      <td>0.144691</td>\n      <td>0.961653</td>\n      <td>0.514347</td>\n      <td>0.810806</td>\n      <td>-0.280521</td>\n      <td>0.821294</td>\n      <td>-0.170879</td>\n      <td>1.000000</td>\n    </tr>\n  </tbody>\n</table>\n</div>"
     },
     "execution_count": 18,
     "metadata": {},
     "output_type": "execute_result"
    }
   ],
   "source": [
    "#calcolo coefficienti di correlazione di kendall\n",
    "dfCentrality.corr(\"kendall\")\n"
   ],
   "metadata": {
    "collapsed": false,
    "pycharm": {
     "name": "#%%\n"
    }
   }
  },
  {
   "cell_type": "markdown",
   "source": [
    "# CODICE AGGIUNTIVO\n",
    "\n",
    "## CODICE RAPPRESENTAZIONE GRAFICA DELLE CENTRALITA'"
   ],
   "metadata": {
    "collapsed": false
   }
  },
  {
   "cell_type": "code",
   "execution_count": null,
   "outputs": [],
   "source": [
    "import matplotlib.pyplot as plt\n",
    "from pylab import rcParams\n",
    "\n",
    "def draw(G, pos, measures, measureName):\n",
    "    nodes = nx.draw_networkx_nodes(G, pos, node_size=5, cmap=plt.cm.plasma,\n",
    "                                   node_color=list(measures.values()),\n",
    "                                   nodelist=measures.keys(),\n",
    "                                   linewidths=0.1,)\n",
    "\n",
    "    edges = nx.draw_networkx_edges(G, pos)\n",
    "    plt.title(measureName)\n",
    "    plt.colorbar(nodes)\n",
    "    plt.axis('off')\n",
    "    rcParams['figure.figsize'] = 10, 10\n",
    "    #plt.show()\n",
    "    plt.savefig(f\"centrality/{measureName}.pdf\")"
   ],
   "metadata": {
    "collapsed": false,
    "pycharm": {
     "name": "#%%\n"
    }
   }
  },
  {
   "cell_type": "code",
   "execution_count": null,
   "outputs": [],
   "source": [
    "draw(twtNet,\n",
    "     nx.spring_layout(twtNet),\n",
    "     betweennessCentrality,\n",
    "     \"Between centrality\")"
   ],
   "metadata": {
    "collapsed": false,
    "pycharm": {
     "name": "#%%\n"
    }
   }
  },
  {
   "cell_type": "code",
   "execution_count": null,
   "outputs": [],
   "source": [
    "draw(twtNet,\n",
    "     nx.spring_layout(twtNet),\n",
    "     closenessCentrality,\n",
    "     \"Closeness centrality\")"
   ],
   "metadata": {
    "collapsed": false,
    "pycharm": {
     "name": "#%%\n"
    }
   }
  },
  {
   "cell_type": "code",
   "execution_count": null,
   "outputs": [],
   "source": [
    "draw(twtNet,\n",
    "     nx.spring_layout(twtNet),\n",
    "     degreeCentrality,\n",
    "     \"Degree centrality\")"
   ],
   "metadata": {
    "collapsed": false,
    "pycharm": {
     "name": "#%%\n"
    }
   }
  },
  {
   "cell_type": "code",
   "execution_count": null,
   "outputs": [],
   "source": [
    "draw(twtNet,\n",
    "     nx.spring_layout(twtNet),\n",
    "     inCentrality,\n",
    "     \"IN-Degree centrality\")"
   ],
   "metadata": {
    "collapsed": false,
    "pycharm": {
     "name": "#%%\n"
    }
   }
  },
  {
   "cell_type": "code",
   "execution_count": null,
   "outputs": [],
   "source": [
    "draw(twtNet,\n",
    "     nx.spring_layout(twtNet),\n",
    "     outCentrality,\n",
    "     \"OUT-Degree centrality\")"
   ],
   "metadata": {
    "collapsed": false,
    "pycharm": {
     "name": "#%%\n"
    }
   }
  },
  {
   "cell_type": "code",
   "execution_count": null,
   "outputs": [],
   "source": [
    "draw(twtNet,\n",
    "     nx.spring_layout(twtNet),\n",
    "     pageRank,\n",
    "     \"PageRank\")"
   ],
   "metadata": {
    "collapsed": false,
    "pycharm": {
     "name": "#%%\n"
    }
   }
  },
  {
   "cell_type": "code",
   "execution_count": null,
   "outputs": [],
   "source": [
    "draw(twtNet,\n",
    "     nx.spring_layout(twtNet),\n",
    "     hits[0],\n",
    "     \"HITS(hubs)\")"
   ],
   "metadata": {
    "collapsed": false,
    "pycharm": {
     "name": "#%%\n"
    }
   }
  },
  {
   "cell_type": "code",
   "execution_count": null,
   "outputs": [],
   "source": [
    "draw(twtNet,\n",
    "     nx.spring_layout(twtNet),\n",
    "     hits[1],\n",
    "     \"HITS(authorities)\")"
   ],
   "metadata": {
    "collapsed": false,
    "pycharm": {
     "name": "#%%\n"
    }
   }
  },
  {
   "cell_type": "markdown",
   "source": [
    "## CODICE DOWNLOAD TUTTE INFORMAZIONI RIGUARDANTI USER\n",
    "\n",
    "Abbiamo deciso di recuperare solo porzione degli oggetti restituiti dalle funzioni(api.followes, api.friends e api.get_user).\n",
    "Per scaricare l'intero oggetto basta sostituire all'interno dei download la seguente funzione.\n",
    "L'esempio qui sotto è stato fatto per alcuni followers di mizzaro e per i dati utenti(file: allmizzaro-followerss.json)"
   ],
   "metadata": {
    "collapsed": false
   }
  },
  {
   "cell_type": "code",
   "execution_count": 5,
   "outputs": [],
   "source": [
    "def retriveAllData(item, data):\n",
    "    json_data = item._json\n",
    "    found_follower = json_data\n",
    "\n",
    "    data.append(found_follower)\n",
    "\n",
    "def download(user, what, quantity, operation):\n",
    "    data= []\n",
    "    print(f\"Downloading {what} di {user}\")\n",
    "\n",
    "    for item in tw.Cursor(\n",
    "        operation,\n",
    "        screen_name=user,\n",
    "        skip_status=True,\n",
    "        include_user_entities=False\n",
    "    ).items(quantity):\n",
    "\n",
    "        retriveAllData(item, data)\n",
    "\n",
    "    serialize_json(os.getcwd(), f\"all{user}-{what}s.json\", data)\n",
    "    print(f\"ho serializzato un totale di {len(data)} dati \\n\")"
   ],
   "metadata": {
    "collapsed": false,
    "pycharm": {
     "name": "#%%\n"
    }
   }
  },
  {
   "cell_type": "code",
   "execution_count": null,
   "outputs": [],
   "source": [
    "#all followers info\n",
    "download(\"mizzaro\", \"follower\", 10, api.followers)"
   ],
   "metadata": {
    "collapsed": false,
    "pycharm": {
     "name": "#%%\n"
    }
   }
  },
  {
   "cell_type": "code",
   "execution_count": 8,
   "outputs": [
    {
     "name": "stdout",
     "output_type": "stream",
     "text": [
      "Downloading info utente di mizzaro\n",
      "Data serialized to path: C:\\Users\\Denis\\PycharmProjects\\social_computing\\primo_progetto/mizzaro-complete-userInfo.json\n"
     ]
    }
   ],
   "source": [
    "userInfo= []\n",
    "user = \"mizzaro\"\n",
    "\n",
    "print(f\"Downloading info utente di {user}\")\n",
    "\n",
    "info = api.get_user(user)\n",
    "retriveAllData(info, userInfo)\n",
    "serialize_json(os.getcwd(), \"mizzaro-complete-userInfo.json\", userInfo)"
   ],
   "metadata": {
    "collapsed": false,
    "pycharm": {
     "name": "#%%\n"
    }
   }
  },
  {
   "cell_type": "markdown",
   "source": [
    "# MERGING FILE JSON"
   ],
   "metadata": {
    "collapsed": false,
    "pycharm": {
     "name": "#%% md\n"
    }
   }
  },
  {
   "cell_type": "code",
   "execution_count": 28,
   "outputs": [
    {
     "name": "stdout",
     "output_type": "stream",
     "text": [
      "Data read from path: data/usersData.json\n",
      "Data read from path: data/ABCFactCheck-damiano10-followingsOfFollowings.json\n",
      "Data read from path: data/ABH878-mizzaro-followersOfFollowers.json\n",
      "Data read from path: data/ACMSIGIR-KevinRoitero-followingsOfFollowings.json\n",
      "Data read from path: data/airamoigroig-mizzaro-followingsOfFollowings.json\n",
      "Data read from path: data/arjenpdevries-KevinRoitero-followersOfFollowers.json\n",
      "Data read from path: data/BrachaShapira-damiano10-followingsOfFollowings.json\n",
      "Data read from path: data/CaRRws-mizzaro-followingsOfFollowings.json\n",
      "Data read from path: data/CreatoursUK-Miccighel_-followersOfFollowers.json\n",
      "Data read from path: data/CriMuntean-KevinRoitero-followersOfFollowers.json\n",
      "Data read from path: data/cs2_school-KevinRoitero-followersOfFollowers.json\n",
      "Data read from path: data/CSSamsterdam-damiano10-followersOfFollowers.json\n",
      "Data read from path: data/dailyrando-Miccighel_-followersOfFollowers.json\n",
      "Data read from path: data/DameWendyDBE-eglu81-followingsOfFollowings.json\n",
      "Data read from path: data/damiano10-followers.json\n",
      "Data read from path: data/damiano10-followings.json\n",
      "Data read from path: data/destgc-eglu81-followingsOfFollowings.json\n",
      "Data read from path: data/dottorxuz-mizzaro-followersOfFollowers.json\n",
      "Data read from path: data/D_AnnunzioG-Miccighel_-followingsOfFollowings.json\n",
      "Data read from path: data/ecir2017-damiano10-followersOfFollowers.json\n",
      "Data read from path: data/eglu81-followers.json\n",
      "Data read from path: data/eglu81-followings.json\n",
      "Data read from path: data/elonmusk-Miccighel_-followingsOfFollowings.json\n",
      "Data read from path: data/emilymprovost-eglu81-followingsOfFollowings.json\n",
      "Data read from path: data/farmersea-Miccighel_-followingsOfFollowings.json\n",
      "Data read from path: data/firstdraftnews-eglu81-followingsOfFollowings.json\n",
      "Data read from path: data/fredricbarnes-Miccighel_-followersOfFollowers.json\n",
      "Data read from path: data/Giuseppe_Peveri-Miccighel_-followingsOfFollowings.json\n",
      "Data read from path: data/ida_mele-KevinRoitero-followingsOfFollowings.json\n",
      "Data read from path: data/ippalarajesh-damiano10-followersOfFollowers.json\n",
      "Data read from path: data/jjohnddoe-KevinRoitero-followersOfFollowers.json\n",
      "Data read from path: data/KevinRoitero-followers.json\n",
      "Data read from path: data/KevinRoitero-followings.json\n",
      "Data read from path: data/krisztianbalog-eglu81-followersOfFollowers.json\n",
      "Data read from path: data/LucaStefanuto1-KevinRoitero-followingsOfFollowings.json\n",
      "Data read from path: data/maliannejadi-KevinRoitero-followersOfFollowers.json\n",
      "Data read from path: data/MarcoStroiazzo-Miccighel_-followingsOfFollowings.json\n",
      "Data read from path: data/Meghhaaworaah-damiano10-followersOfFollowers.json\n",
      "Data read from path: data/Miccighel_-followers.json\n",
      "Data read from path: data/Miccighel_-followings.json\n",
      "Data read from path: data/mizzaro-followers.json\n",
      "Data read from path: data/mizzaro-followings.json\n",
      "Data read from path: data/nalitzis-mizzaro-followingsOfFollowings.json\n",
      "Data read from path: data/Niona_diaz-damiano10-followingsOfFollowings.json\n",
      "Data read from path: data/oscarmarinmiro-damiano10-followersOfFollowers.json\n",
      "Data read from path: data/PuppoRaffaele-Miccighel_-followersOfFollowers.json\n",
      "Data read from path: data/RankSys-mizzaro-followersOfFollowers.json\n",
      "Data read from path: data/RealAAAI-KevinRoitero-followingsOfFollowings.json\n",
      "Data read from path: data/recsyschallenge-mizzaro-followingsOfFollowings.json\n",
      "Data read from path: data/ResearchRMIT-KevinRoitero-followingsOfFollowings.json\n",
      "Data read from path: data/samisthat1-eglu81-followersOfFollowers.json\n",
      "Data read from path: data/sdowsi-mizzaro-followersOfFollowers.json\n",
      "Data read from path: data/sebastianarnold-eglu81-followersOfFollowers.json\n",
      "Data read from path: data/tvants-Miccighel_-followersOfFollowers.json\n",
      "Data read from path: data/UQ_EAIT-eglu81-followingsOfFollowings.json\n",
      "Data read from path: data/vardi-mizzaro-followingsOfFollowings.json\n",
      "Data read from path: data/walsh_d-eglu81-followersOfFollowers.json\n",
      "Data read from path: data/WeVerify-damiano10-followingsOfFollowings.json\n",
      "Data read from path: data/xxEmineYilmazxx-damiano10-followingsOfFollowings.json\n",
      "Data read from path: data/yangjiera-eglu81-followersOfFollowers.json\n",
      "Data read from path: data/zuacsea-mizzaro-followersOfFollowers.json\n",
      "Data serialized to path: C:\\Users\\Denis\\PycharmProjects\\social_computing\\primo_progetto/mergedData.json\n"
     ]
    }
   ],
   "source": [
    "def mergeJSON():\n",
    "    usersInfo = read_json(f\"{data_folder}/usersData.json\")\n",
    "    lstFile = os.listdir(data_folder)\n",
    "\n",
    "    #print(usersInfo[0][\"followers\"])\n",
    "\n",
    "    for file in lstFile:\n",
    "        splittedFileName = file.split(sep=\"-\", maxsplit=3)\n",
    "\n",
    "        for user in usersInfo:\n",
    "            if (user[\"screen_name\"] == splittedFileName[0]) and (\"users\" not in file):\n",
    "                follows = read_json(f\"{data_folder}/{file}\")\n",
    "\n",
    "                if \"follower\" in splittedFileName[len(splittedFileName) - 1]:\n",
    "                    user[\"followers\"] = follows\n",
    "                elif \"following\" in splittedFileName[len(splittedFileName) - 1]:\n",
    "                    user[\"followings\"] = follows\n",
    "\n",
    "                break\n",
    "\n",
    "    serialize_json(os.getcwd(), \"mergedData.json\", usersInfo)\n",
    "\n",
    "mergeJSON()"
   ],
   "metadata": {
    "collapsed": false,
    "pycharm": {
     "name": "#%%\n"
    }
   }
  }
 ],
 "metadata": {
  "kernelspec": {
   "display_name": "Python 3",
   "language": "python",
   "name": "python3"
  },
  "language_info": {
   "codemirror_mode": {
    "name": "ipython",
    "version": 3
   },
   "file_extension": ".py",
   "mimetype": "text/x-python",
   "name": "python",
   "nbconvert_exporter": "python",
   "pygments_lexer": "ipython3",
   "version": "3.8.3"
  }
 },
 "nbformat": 4,
 "nbformat_minor": 4
}