{
 "cells": [
  {
   "cell_type": "code",
   "execution_count": 19,
   "metadata": {
    "collapsed": false,
    "jupyter": {
     "outputs_hidden": false
    },
    "pycharm": {
     "name": "#%%\n"
    }
   },
   "outputs": [],
   "source": [
    "from tweepy import TweepError as twE\n",
    "import tweepy as tw\n",
    "import os\n",
    "import json\n",
    "import random\n",
    "from networkx.algorithms.approximation import clique as clq\n",
    "import networkx as nx\n",
    "from pyvis.network import Network\n",
    "from scipy.stats import kendalltau"
   ]
  },
  {
   "cell_type": "code",
   "execution_count": 2,
   "metadata": {
    "collapsed": false,
    "jupyter": {
     "outputs_hidden": false
    },
    "pycharm": {
     "name": "#%%\n"
    }
   },
   "outputs": [
    {
     "name": "stdout",
     "output_type": "stream",
     "text": [
      "Authentication completed successfully!\n"
     ]
    }
   ],
   "source": [
    "#Twitter API credentials\n",
    "api_key = \"FzUscQQNsdWhkxebVGFZyuHsh\"\n",
    "api_secret = \"Tr1OqulWQIYYI6aEpWVOb7U5NL9DoRtCAviXh4tYg4LXg9sBZe\"\n",
    "access_token = \"1040603971637923845-9uZqYh42gsCmwoDCB9nTcoSHrHwiV8\"\n",
    "access_secret = \"OsZL0PZC9WDw6Xwcl2ASpIisyfkKW3Bwu4BomNgWxAcj0\"\n",
    "bearer_token = \"AAAAAAAAAAAAAAAAAAAAAJQUJQEAAAAA%2B5CTzK8KotMS%2FuB61Dlul7ijBE4%3D5uWZb7w1FPD6nb4SpvmnZ4hxGjqGwzfMquWPHQQooS3jkgNg67\"\n",
    "\n",
    "auth = tw.OAuthHandler(api_key, api_secret)\n",
    "auth.set_access_token(access_token, access_secret)\n",
    "api = tw.API(auth, wait_on_rate_limit=True, wait_on_rate_limit_notify=True, timeout=180)\n",
    "#attributo timeout indica la durata della connessione\n",
    "\n",
    "if api.verify_credentials:\n",
    "    print ('Authentication completed successfully!')"
   ]
  },
  {
   "cell_type": "code",
   "execution_count": 4,
   "metadata": {
    "collapsed": false,
    "jupyter": {
     "outputs_hidden": false
    },
    "pycharm": {
     "name": "#%%\n"
    }
   },
   "outputs": [],
   "source": [
    "data_folder = \"data\"\n",
    "\n",
    "def serialize_json(folder, filename, data):\n",
    "    if not os.path.exists(folder):\n",
    "        os.makedirs(folder, exist_ok=True)\n",
    "    with open(f\"{folder}/{filename}\", 'w', encoding='utf-8') as f:\n",
    "        json.dump(data, f, ensure_ascii=False, indent=4)\n",
    "        f.close()\n",
    "    print(f\"Data serialized to path: {folder}/{filename}\")\n",
    "\n",
    "def read_json(path):\n",
    "    if os.path.exists(path):\n",
    "        with open(path, \"r\", encoding=\"utf8\") as file:\n",
    "            data = json.load(file)\n",
    "        print(f\"Data read from path: {path}\")\n",
    "        return data\n",
    "    else:\n",
    "        print(f\"No data found at path: {path}\")\n",
    "        return {}"
   ]
  },
  {
   "cell_type": "markdown",
   "metadata": {
    "pycharm": {
     "name": "#%% md\n"
    }
   },
   "source": [
    "1. Scaricamento utenti followers ( api.followers ) e utenti following (api.friends ) dei seguenti\n",
    "    cinque account (i dati numerici potrebbero subire minime variazioni):\n",
    "\n",
    "    ○ @mizzaro <br>\n",
    "    ○ @damiano10 <br>\n",
    "    ○ @Miccighel_ <br>\n",
    "    ○ @eglu81 <br>\n",
    "    ○ @KevinRoitero\n"
   ]
  },
  {
   "cell_type": "code",
   "execution_count": 5,
   "outputs": [],
   "source": [
    "accounts = [\"mizzaro\" , \"damiano10\", \"Miccighel_\", \"eglu81\", \"KevinRoitero\"]\n",
    "followers = [157, 786, 332, 539, 103]\n",
    "followings = [331, 837, 212, 621, 256]"
   ],
   "metadata": {
    "collapsed": false,
    "pycharm": {
     "name": "#%%\n"
    }
   }
  },
  {
   "cell_type": "markdown",
   "metadata": {
    "pycharm": {
     "name": "#%% md\n"
    }
   },
   "source": [
    "accounts --> vettore contenenti gli screen_name dei quali si vogliono scaricare i dati (vettore)<br>\n",
    "what --> specifica il cosa voglio scaricare (stringa) <br>\n",
    "quantity --> quantità di followers/followings si vogliono scaricare (intero) <br>\n",
    "operation --> funzione dell'API da chiamere (funzione)"
   ]
  },
  {
   "cell_type": "code",
   "execution_count": 6,
   "metadata": {
    "collapsed": false,
    "jupyter": {
     "outputs_hidden": false
    },
    "pycharm": {
     "name": "#%%\n"
    }
   },
   "outputs": [],
   "source": [
    "#download passando vettore di quantità\n",
    "def download(users, what, quantity, operation):\n",
    "    i = 0\n",
    "\n",
    "    for user in users:\n",
    "        data= []\n",
    "        print(f\"Downloading {what} di {user}\")\n",
    "\n",
    "        for item in tw.Cursor(\n",
    "            operation,\n",
    "            screen_name=user,\n",
    "            skip_status=True,\n",
    "            include_user_entities=False\n",
    "        ).items(quantity[i]):\n",
    "\n",
    "            retriveData(item, data)\n",
    "\n",
    "        serialize_json(data_folder, f\"{user}_{what}s.json\", data)\n",
    "        print(f\"ho serializzato un totale di {len(data)} dati \\n\")\n",
    "        i += 1\n",
    "\n",
    "def retriveData(item, data):\n",
    "    json_data = item._json\n",
    "    found_follower = {}\n",
    "\n",
    "    found_follower[\"id\"] = json_data[\"id\"]\n",
    "    found_follower[\"name\"] = json_data[\"name\"]\n",
    "    found_follower[\"screen_name\"] = json_data[\"screen_name\"]\n",
    "    found_follower[\"location\"] = json_data[\"location\"]\n",
    "\n",
    "    data.append(found_follower)"
   ]
  },
  {
   "cell_type": "markdown",
   "metadata": {
    "pycharm": {
     "name": "#%% md\n"
    }
   },
   "source": [
    "## Download follower"
   ]
  },
  {
   "cell_type": "code",
   "execution_count": null,
   "outputs": [],
   "source": [
    "download(accounts, \"follower\", followers, api.followers)\n",
    "print(\"Download terminato\")"
   ],
   "metadata": {
    "collapsed": false,
    "pycharm": {
     "name": "#%%\n"
    }
   }
  },
  {
   "cell_type": "markdown",
   "metadata": {
    "pycharm": {
     "name": "#%% md\n"
    }
   },
   "source": [
    "## Download following"
   ]
  },
  {
   "cell_type": "code",
   "execution_count": null,
   "outputs": [],
   "source": [
    "download(accounts, \"following\", followings, api.friends)\n",
    "print(\"Download terminato\")"
   ],
   "metadata": {
    "collapsed": false,
    "pycharm": {
     "name": "#%%\n"
    }
   }
  },
  {
   "cell_type": "markdown",
   "metadata": {
    "pycharm": {
     "name": "#%% md\n"
    }
   },
   "source": [
    "2. Scegliete 5 utenti followers a caso tra quelli di ciascuno dei cinque account e\n",
    "    scaricate ulteriori 10 utenti followers ( followers dei followers )\n"
   ]
  },
  {
   "cell_type": "code",
   "execution_count": 7,
   "metadata": {
    "collapsed": false,
    "jupyter": {
     "outputs_hidden": false
    },
    "pycharm": {
     "name": "#%%\n"
    }
   },
   "outputs": [],
   "source": [
    "def rndIndex(quantity, max):\n",
    "    rndNum = []\n",
    "\n",
    "    while len(rndNum) < quantity:\n",
    "        pos = random.randint(0, max)\n",
    "\n",
    "        if pos not in rndNum:\n",
    "            rndNum.append(pos)\n",
    "    return rndNum\n",
    "\n",
    "#recupera gli screen_name dei 5 account random\n",
    "def retriveAccounts(rnd, file):\n",
    "    data = read_json(f\"{data_folder}/{file}\")\n",
    "    newAccounts = []\n",
    "\n",
    "    for index in rnd:\n",
    "        #controllo che aaccount selezionato abbia più di 10 followers\n",
    "        item = data[index]\n",
    "\n",
    "        if len(api.followers_ids(item[\"screen_name\"])) >= 10 :\n",
    "            newAccounts.append(item[\"screen_name\"])\n",
    "            #non gestisce il caso in cui ci siano meno di 10 amici\n",
    "\n",
    "    return newAccounts\n",
    "\n",
    "#download con quantity valore intero\n",
    "def specificQuantityDownload(users, what, quantity, operation):\n",
    "\n",
    "   for user in users:\n",
    "        data= []\n",
    "        print(f\"Downloading {what} di {user}\")\n",
    "\n",
    "        for item in tw.Cursor(\n",
    "            operation,\n",
    "            screen_name=user,\n",
    "            skip_status=True,\n",
    "            include_user_entities=False\n",
    "        ).items(quantity):\n",
    "\n",
    "            retriveData(item, data)\n",
    "\n",
    "        serialize_json(data_folder, f\"{user}_{what}s.json\", data)\n",
    "        print(f\"ho serializzato un totale di {len(data)} dati \\n\")"
   ]
  },
  {
   "cell_type": "markdown",
   "metadata": {},
   "source": [
    "## Download followers of followers"
   ]
  },
  {
   "cell_type": "code",
   "execution_count": null,
   "outputs": [],
   "source": [
    "i = 0\n",
    "for account in accounts:\n",
    "    max = followers[i]\n",
    "\n",
    "    rndNum = rndIndex(5, max)\n",
    "\n",
    "    specificQuantityDownload(retriveAccounts(rndNum, f\"{account}_followers.json\"),\n",
    "                                                f\"{account}_followersOfFollower\", 10, api.followers)\n",
    "    i += 1\n",
    "\n",
    "print(\"Download terminato\")"
   ],
   "metadata": {
    "collapsed": false,
    "pycharm": {
     "name": "#%%\n"
    }
   }
  },
  {
   "cell_type": "markdown",
   "metadata": {
    "pycharm": {
     "name": "#%% md\n"
    }
   },
   "source": [
    "3. Scegliete 5 utenti following a caso tra quelli di ciascuno dei cinque account e\n",
    "    scaricate ulteriori 10 utenti following ( following dei following )"
   ]
  },
  {
   "cell_type": "markdown",
   "metadata": {},
   "source": [
    "## Download followings of followings"
   ]
  },
  {
   "cell_type": "code",
   "execution_count": null,
   "outputs": [],
   "source": [
    "i = 0\n",
    "for account in accounts:\n",
    "    max = followings[i]\n",
    "\n",
    "    rndNum = rndIndex(5, max)\n",
    "\n",
    "    specificQuantityDownload(retriveAccounts(rndNum, f\"{account}_followings.json\"),\n",
    "                                                f\"{account}_followingsOfFollowing\", 10, api.friends)\n",
    "    i += 1\n",
    "\n",
    "print(\"Download terminato\")"
   ],
   "metadata": {
    "collapsed": false,
    "pycharm": {
     "name": "#%%\n"
    }
   }
  },
  {
   "cell_type": "markdown",
   "metadata": {
    "pycharm": {
     "name": "#%% md\n"
    }
   },
   "source": [
    "4. Scaricare i dettagli del profilo di tutti gli utenti recuperati ( api.get_user )\n"
   ]
  },
  {
   "cell_type": "code",
   "execution_count": 9,
   "metadata": {
    "collapsed": false,
    "jupyter": {
     "outputs_hidden": false
    },
    "pycharm": {
     "name": "#%%\n"
    }
   },
   "outputs": [],
   "source": [
    "#si può togliere operation e vedere doc api.get_user\n",
    "def downloadUserDataFromString(users, output):\n",
    "    for user in users:\n",
    "        print(f\"Downloading userData di {user}\")\n",
    "\n",
    "        foundUser = api.get_user(user)\n",
    "        retriveUserData(foundUser, output)\n",
    "\n",
    "    return output\n",
    "\n",
    "def downloadUserDataFromObject(users, output):\n",
    "    for user in users:\n",
    "        print(f\"Downloading userData di {user['screen_name']}\")\n",
    "        try:\n",
    "            foundUser = api.get_user(user[\"id\"])\n",
    "            retriveUserData(foundUser, output)\n",
    "        except twE: #usato per gestire il caso in cui il profilo risulta impossibile da scaricare\n",
    "            print(\"User not found!\")\n",
    "\n",
    "    return output\n",
    "\n",
    "def retriveUserData(item, data):\n",
    "    json_data = item._json\n",
    "\n",
    "    profile_data = {}\n",
    "\n",
    "    profile_data[\"id\"] = json_data[\"id\"]\n",
    "    profile_data[\"name\"] = json_data[\"name\"]\n",
    "    profile_data[\"screen_name\"] = json_data[\"screen_name\"]\n",
    "    profile_data[\"location\"] = json_data[\"location\"]\n",
    "    profile_data[\"description\"] = json_data[\"description\"]\n",
    "    profile_data[\"followers_count\"] = json_data[\"followers_count\"]\n",
    "\n",
    "    if profile_data not in data:\n",
    "        data.append(profile_data)\n"
   ]
  },
  {
   "cell_type": "markdown",
   "source": [
    "## Download info utenti"
   ],
   "metadata": {
    "collapsed": false,
    "pycharm": {
     "name": "#%% md\n"
    }
   }
  },
  {
   "cell_type": "code",
   "execution_count": null,
   "outputs": [],
   "source": [
    "lstFile = os.listdir(data_folder)#lista dei file contenuti nella directory \"data\"\n",
    "\n",
    "if \"usersData.json\" not in lstFile:\n",
    "    userData = []\n",
    "    #download user data degli uterti di partenza(mizzaro, damiano10,...)\n",
    "    downloadUserDataFromString(accounts, userData)\n",
    "\n",
    "    for file in lstFile:\n",
    "       jsonItems = read_json(f\"{data_folder}/{file}\")\n",
    "\n",
    "       downloadUserDataFromObject(jsonItems, userData)\n",
    "\n",
    "    print(f\"ho serializzato un totale di {len(userData)} dati \\n\")\n",
    "\n",
    "    serialize_json(data_folder, f\"usersData.json\", userData)\n",
    "else:\n",
    "    print(\"I dati utente sono già stati serializzati in precedenza\")\n",
    "\n",
    "print(\"Download terminato\")\n",
    "\n",
    "#PROBLEMA: ad ogni esecuzione cambia il numero di elementi scaricati\n"
   ],
   "metadata": {
    "collapsed": false,
    "pycharm": {
     "name": "#%%\n"
    }
   }
  },
  {
   "cell_type": "markdown",
   "metadata": {
    "pycharm": {
     "name": "#%% md\n"
    }
   },
   "source": [
    "5. Costruite la rete sociale (grafo):\n",
    "\n",
    "    ○ Inserite l’ id di ciascun utente come identificatore del nodo <br>\n",
    "    ○ Ogni arco rappresenta una relazione follows tra due utenti <br>\n",
    "    ○ La presenza della relazione va verificata tra tutti gli utenti scaricati ed i cinque account iniziali ( api.show_friendship ) <br>\n",
    "    ○ Inserite i dettagli del profilo di ciascun utente come attributi del nodo <br>\n",
    "    ○ Inserite i membri del vostro gruppo come attributi del grafo <br>\n",
    "    ○ Per ogni nodo, aggiungete un attributo con il numero di follower individuati\n"
   ]
  },
  {
   "cell_type": "code",
   "execution_count": null,
   "outputs": [],
   "source": [
    "nodes = read_json(f\"{data_folder}/usersData.json\")\n",
    "twtNet = nx.DiGraph(group_members= [\"Gasparollo Denis\", \"Francescut Matteo\", \"Bensi Martino\", \"Rizzetto Sasha\"])\n",
    "\n",
    "\n",
    "for node in nodes:\n",
    "    twtNet.add_node(node[\"id\"], name= node[\"name\"], screen_name= node[\"screen_name\"], location= node[\"location\"], description= node[\"description\"], followers_count= node[\"followers_count\"])\n",
    "print(nx.number_of_nodes(twtNet))\n",
    "\n",
    "for user in accounts:\n",
    "    for node in nodes:\n",
    "        if api.show_friendship(source_screen_name= user, target_screen_name= node[\"screen_name\"]):\n",
    "            twtNet.add_edge(user, node[\"screen_name\"])\n",
    "        if api.show_friendship(source_screen_name= node[\"screen_name\"], target_screen_name= user):\n",
    "            twtNet.add_edge(node[\"screen_name\"], user)\n",
    "\n",
    "print(\"Il grafo è stato costruito con successo!\")"
   ],
   "metadata": {
    "collapsed": false,
    "pycharm": {
     "name": "#%%\n"
    }
   }
  },
  {
   "cell_type": "markdown",
   "metadata": {
    "pycharm": {
     "name": "#%% md\n"
    }
   },
   "source": [
    "6. Producete una visualizzazione interattiva del grafo usando pyvis\n"
   ]
  },
  {
   "cell_type": "code",
   "execution_count": 11,
   "metadata": {
    "collapsed": false,
    "jupyter": {
     "outputs_hidden": false
    },
    "pycharm": {
     "name": "#%%\n"
    }
   },
   "outputs": [],
   "source": [
    "#modificare parametri per cambiare la parte grafica\n",
    "net = Network(\n",
    "    height = \"100%\",\n",
    "    width = \"100%\",\n",
    "    bgcolor = \"#222222\",\n",
    "    font_color = \"white\",\n",
    "    heading = \"Rete Sociale\"\n",
    ")\n",
    "\n",
    "net.barnes_hut()#si possono cambiare parametri\n",
    "net.from_nx(twtNet)\n",
    "neighbor_map = net.get_adj_list()\n",
    "\n",
    "for node in net.nodes:\n",
    "    node[\"value\"] = len(neighbor_map[node[\"id\"]])\n",
    "\n",
    "net.show(\"twtNet.html\")"
   ]
  },
  {
   "cell_type": "markdown",
   "metadata": {
    "pycharm": {
     "name": "#%% md\n"
    }
   },
   "source": [
    "7. Verificate se il grafo:\n",
    "\n",
    "    ○ è connesso ( is_connected ) <br>\n",
    "    ○ è bipartito ( is_bipartite )\n"
   ]
  },
  {
   "cell_type": "code",
   "execution_count": null,
   "outputs": [],
   "source": [
    "if  nx.is_connected(twtNet):\n",
    "    print(\"Il grafo è connesso\")\n",
    "else:\n",
    "    print(\"Il grafo non è connesso\")\n",
    "\n",
    "if nx.is_bipartite(twtNet):\n",
    "    print(\"Il grafo è bipartito\")\n",
    "else:\n",
    "    print(\"Il grafo non è bipartito\")"
   ],
   "metadata": {
    "collapsed": false,
    "pycharm": {
     "name": "#%%\n"
    }
   }
  },
  {
   "cell_type": "markdown",
   "metadata": {
    "pycharm": {
     "name": "#%% md\n"
    }
   },
   "source": [
    "8. Misurate le seguenti distanze sul grafo:\n",
    "\n",
    "    ○ Centro ( center ) <br>\n",
    "    ○ Diametro ( diameter ) <br>\n",
    "    ○ Raggio ( radius )\n"
   ]
  },
  {
   "cell_type": "code",
   "execution_count": null,
   "metadata": {
    "collapsed": false,
    "jupyter": {
     "outputs_hidden": false
    },
    "pycharm": {
     "name": "#%%\n"
    }
   },
   "outputs": [],
   "source": [
    "print(f\"Centro: {nx.center(twtNet)}\")\n",
    "print(f\"Diametro: {nx.diameter(twtNet)}\")\n",
    "print(f\"Raggio: {nx.radius(twtNet)}\") #forse serve qualche parametro"
   ]
  },
  {
   "cell_type": "markdown",
   "metadata": {
    "pycharm": {
     "name": "#%% md\n"
    }
   },
   "source": [
    "9. Calcolate le seguenti misure di centralità sul grafo:\n",
    "\n",
    "    ○ Betweenness centrality ( betweenness_centrality ) <br>\n",
    "    ○ Closeness centrality ( closeness_centrality ) <br>\n",
    "    ○ Degree centrality ( degree_centrality ) <br>\n",
    "    ○ In-degree centrality ( in_degree_centrality ) <br>\n",
    "    ○ Out-degree centrality ( out_degree_centrality ) <br>\n",
    "    ○ Page Rank ( pagerank ) <br>\n",
    "    ○ HITS ( hits )\n"
   ]
  },
  {
   "cell_type": "code",
   "execution_count": 13,
   "metadata": {
    "collapsed": false,
    "jupyter": {
     "outputs_hidden": false
    },
    "pycharm": {
     "name": "#%%\n"
    }
   },
   "outputs": [],
   "source": [
    "betweennessCentrality = 25#nx.betweenness_centrality(twtNet) #forse serve qualche parametro\n",
    "closenessCentrality = 0 #nx.closeness_centrality(twtNet) #forse serve qualche parametro\n",
    "degreeCentrality =  0#nx.degree_centrality(twtNet) #forse serve qualche parametro\n",
    "inCentrality = 0#nx.in_degree_centrality(twtNet) #forse serve qualche parametro\n",
    "outCentrality = 0#nx.out_degree_centrality(twtNet) #forse serve qualche parametro"
   ]
  },
  {
   "cell_type": "code",
   "execution_count": null,
   "outputs": [],
   "source": [
    "print(f\"Betweenness centrality: {betweennessCentrality}\")\n",
    "print(f\"Closeness centrality: {closenessCentrality}\")\n",
    "print(f\"Degree centrality: {degreeCentrality}\")\n",
    "print(f\"IN degree centrality: {inCentrality}\")\n",
    "print(f\"OUT degree centrality: {outCentrality}\")\n",
    "print(f\"Page rank: {nx.pagerank(twtNet)}\") #forse serve qualche parametro\n",
    "print(f\"HITS: {nx.hits(twtNet)}\") #forse serve qualche parametro\n"
   ],
   "metadata": {
    "collapsed": false,
    "pycharm": {
     "name": "#%%\n"
    }
   }
  },
  {
   "cell_type": "markdown",
   "metadata": {
    "pycharm": {
     "name": "#%% md\n"
    }
   },
   "source": [
    "10. Generate un sottografo del grafo ( ego_graph ) e calcolate:\n",
    "\n",
    "    ○ Cricca massima ( max_clique ) <br>\n",
    "    ○ Dimensione della cricca massima ( large_clique_size )\n",
    "\n",
    "Si è deciso di calcolare la cricca per Kevin Roitero per motivi di complessità"
   ]
  },
  {
   "cell_type": "code",
   "execution_count": null,
   "metadata": {
    "collapsed": false,
    "jupyter": {
     "outputs_hidden": false
    },
    "pycharm": {
     "name": "#%%\n"
    }
   },
   "outputs": [],
   "source": [
    "roiteroGraph = nx.ego_graph(twtNet, \"Brynden-Tully\", radius=1)\n",
    "\n",
    "clique = clq.max_clique(roiteroGraph)\n",
    "cliquegraph = twtNet.subgraph(clique)\n",
    "\n",
    "dimensione = nx.number_of_nodes(cliquegraph) + nx.number_of_edges(cliquegraph)\n",
    "print(f\"La dimensione del sottografo calcolato sulla cricca massima vale: {dimensione}\")"
   ]
  },
  {
   "cell_type": "markdown",
   "metadata": {
    "pycharm": {
     "name": "#%% md\n"
    }
   },
   "source": [
    "11. Calcolate la copertura minima degli archi ( min_edge_cover ) del grafo\n"
   ]
  },
  {
   "cell_type": "code",
   "execution_count": null,
   "metadata": {
    "collapsed": false,
    "jupyter": {
     "outputs_hidden": false
    },
    "pycharm": {
     "name": "#%%\n"
    }
   },
   "outputs": [],
   "source": [
    "minCover = nx.min_edge_cover(twtNet)\n",
    "print(f\"Copertura minima arco: {minCover}\")\n"
   ]
  },
  {
   "cell_type": "markdown",
   "metadata": {
    "pycharm": {
     "name": "#%% md\n"
    }
   },
   "source": [
    "12. Calcolate i seguenti coefficienti per stimare la “small-world-ness” del grafo:\n",
    "\n",
    "    ○ Coefficiente omega ( omega ) <br>\n",
    "    ○ Coefficiente sigma ( sigma )"
   ]
  },
  {
   "cell_type": "code",
   "execution_count": null,
   "metadata": {
    "collapsed": false,
    "jupyter": {
     "outputs_hidden": false
    },
    "pycharm": {
     "name": "#%%\n"
    }
   },
   "outputs": [],
   "source": [
    "omega = nx.omega(twtNet) #forse serve qualche parametro\n",
    "sigma = nx.sigma(twtNet) #forse serve qualche parametro\n",
    "\n",
    "print(f\"Coefficiente omega: {omega}\")\n",
    "print(f\"Coefficiente sigma: {sigma}\")\n"
   ]
  },
  {
   "cell_type": "markdown",
   "metadata": {
    "pycharm": {
     "name": "#%% md\n"
    }
   },
   "source": [
    "13. Calcolare la correlazione di Pearson Rho e di Kendall Tau fra le misure di centralità;\n",
    "    riportare il risultato in due tabelle"
   ]
  },
  {
   "cell_type": "code",
   "execution_count": null,
   "outputs": [],
   "source": [
    "#value --> valori di centralità\n",
    "#correlation --> tipo di correlazione che si vuole trovare(Kendal-Tau o Pearson-Rho)\n",
    "def buildCorrelationMatrix(value, correlation):\n",
    "    matrix = [[],[],[],[],[]]\n",
    "\n",
    "    for i in range(5):\n",
    "        for j in range(i):\n",
    "            matrix[i][j] = correlation(value[i], value[j])\n",
    "            matrix[j][i] = matrix[i][j]\n",
    "\n",
    "    return matrix"
   ],
   "metadata": {
    "collapsed": false,
    "pycharm": {
     "name": "#%%\n"
    }
   }
  },
  {
   "cell_type": "code",
   "execution_count": 18,
   "metadata": {
    "collapsed": false,
    "jupyter": {
     "outputs_hidden": false
    },
    "pycharm": {
     "name": "#%%\n"
    }
   },
   "outputs": [
    {
     "name": "stdout",
     "output_type": "stream",
     "text": [
      "[25  0  0  0  0]\n"
     ]
    }
   ],
   "source": [
    "centralityValue = [betweennessCentrality, closenessCentrality, degreeCentrality, inCentrality, outCentrality]\n",
    "#rho = nx.degree_pearson_correlation_coefficient(betweennessCentrality, closenessCentrality, degreeCentrality, inCentrality, outCentrality) #forse serve qualche parametro e controllare la funzione\n",
    "#tau = 0 #da calcolare\n",
    "print(centralityValue)\n",
    "\n",
    "kendalMatrix = buildCorrelationMatrix(centralityValue, nx.degree_pearson_correlation_coefficient)\n",
    "pearsonMatrix = buildCorrelationMatrix(centralityValue, kendalltau)\n",
    "\n",
    "print(kendalMatrix + \"\\n\")\n",
    "print(pearsonMatrix + \"\\n\")\n"
   ]
  }
 ],
 "metadata": {
  "kernelspec": {
   "display_name": "Python 3",
   "language": "python",
   "name": "python3"
  },
  "language_info": {
   "codemirror_mode": {
    "name": "ipython",
    "version": 3
   },
   "file_extension": ".py",
   "mimetype": "text/x-python",
   "name": "python",
   "nbconvert_exporter": "python",
   "pygments_lexer": "ipython3",
   "version": "3.8.3"
  }
 },
 "nbformat": 4,
 "nbformat_minor": 4
}